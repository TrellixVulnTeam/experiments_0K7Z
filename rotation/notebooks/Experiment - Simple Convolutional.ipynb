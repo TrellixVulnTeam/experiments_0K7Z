{
 "cells": [
  {
   "cell_type": "code",
   "execution_count": 1,
   "metadata": {},
   "outputs": [],
   "source": [
    "import matplotlib.pyplot as plt\n",
    "%load_ext autoreload\n",
    "%autoreload 2\n",
    "plt.rcParams['image.cmap'] = 'gray'"
   ]
  },
  {
   "cell_type": "code",
   "execution_count": 9,
   "metadata": {},
   "outputs": [
    {
     "name": "stdout",
     "output_type": "stream",
     "text": [
      "Found binary version in /home/facundo/.keras/datasets/pugeault/pugeault_skip1_testsubjectsE_color.npz, loading...\n",
      "x_train shape: (52992, 32, 32, 1)\n",
      "52992 train samples\n",
      "12782 test samples\n"
     ]
    }
   ],
   "source": [
    "\n",
    "import keras\n",
    "\n",
    "import os\n",
    "import datasets\n",
    "import models\n",
    "dataset=\"pugeault\"\n",
    "(x_train, y_train), (x_test, y_test), input_shape,num_classes = datasets.get_data(dataset)\n",
    "\n",
    "\n",
    "print('x_train shape:', x_train.shape)\n",
    "print(x_train.shape[0], 'train samples')\n",
    "print(x_test.shape[0], 'test samples')\n",
    "\n",
    "\n",
    "\n"
   ]
  },
  {
   "cell_type": "code",
   "execution_count": 10,
   "metadata": {
    "scrolled": true
   },
   "outputs": [
    {
     "name": "stdout",
     "output_type": "stream",
     "text": [
      "_________________________________________________________________\n",
      "Layer (type)                 Output Shape              Param #   \n",
      "=================================================================\n",
      "conv2d_3 (Conv2D)            (None, 32, 32, 3)         6         \n",
      "_________________________________________________________________\n",
      "0_0_conv (Conv2D)            (None, 30, 30, 64)        1792      \n",
      "_________________________________________________________________\n",
      "batch_normalization_15 (Batc (None, 30, 30, 64)        256       \n",
      "_________________________________________________________________\n",
      "0_1_conv (Conv2D)            (None, 28, 28, 64)        36928     \n",
      "_________________________________________________________________\n",
      "batch_normalization_16 (Batc (None, 28, 28, 64)        256       \n",
      "_________________________________________________________________\n",
      "0_conv_stride (Conv2D)       (None, 13, 13, 64)        36928     \n",
      "_________________________________________________________________\n",
      "batch_normalization_17 (Batc (None, 13, 13, 64)        256       \n",
      "_________________________________________________________________\n",
      "1_0_conv (Conv2D)            (None, 11, 11, 128)       73856     \n",
      "_________________________________________________________________\n",
      "batch_normalization_18 (Batc (None, 11, 11, 128)       512       \n",
      "_________________________________________________________________\n",
      "1_1_conv (Conv2D)            (None, 9, 9, 128)         147584    \n",
      "_________________________________________________________________\n",
      "batch_normalization_19 (Batc (None, 9, 9, 128)         512       \n",
      "_________________________________________________________________\n",
      "1_conv_stride (Conv2D)       (None, 4, 4, 128)         147584    \n",
      "_________________________________________________________________\n",
      "batch_normalization_20 (Batc (None, 4, 4, 128)         512       \n",
      "_________________________________________________________________\n",
      "flatten_3 (Flatten)          (None, 2048)              0         \n",
      "_________________________________________________________________\n",
      "fc1 (Dense)                  (None, 256)               524544    \n",
      "_________________________________________________________________\n",
      "batch_normalization_21 (Batc (None, 256)               1024      \n",
      "_________________________________________________________________\n",
      "fc2 (Dense)                  (None, 25)                6425      \n",
      "=================================================================\n",
      "Total params: 978,975\n",
      "Trainable params: 977,311\n",
      "Non-trainable params: 1,664\n",
      "_________________________________________________________________\n",
      "None\n"
     ]
    }
   ],
   "source": [
    "\n",
    "model = models.simple_conv(input_shape,num_classes,filters=64)\n",
    "model.compile(loss=keras.losses.categorical_crossentropy,\n",
    "              optimizer=keras.optimizers.RMSprop(lr=0.0015),\n",
    "              metrics=['accuracy'])\n",
    "print(model.summary())\n"
   ]
  },
  {
   "cell_type": "code",
   "execution_count": 11,
   "metadata": {
    "scrolled": true
   },
   "outputs": [
    {
     "name": "stdout",
     "output_type": "stream",
     "text": [
      "_________________________________________________________________\n",
      "Layer (type)                 Output Shape              Param #   \n",
      "=================================================================\n",
      "conv2d_4 (Conv2D)            (None, 32, 32, 3)         6         \n",
      "_________________________________________________________________\n",
      "0_0_conv (Conv2D)            (None, 30, 30, 128)       3584      \n",
      "_________________________________________________________________\n",
      "batch_normalization_22 (Batc (None, 30, 30, 128)       512       \n",
      "_________________________________________________________________\n",
      "0_1_conv (Conv2D)            (None, 28, 28, 128)       147584    \n",
      "_________________________________________________________________\n",
      "batch_normalization_23 (Batc (None, 28, 28, 128)       512       \n",
      "_________________________________________________________________\n",
      "0_conv_stride (Conv2D)       (None, 13, 13, 128)       147584    \n",
      "_________________________________________________________________\n",
      "batch_normalization_24 (Batc (None, 13, 13, 128)       512       \n",
      "_________________________________________________________________\n",
      "1_0_conv (Conv2D)            (None, 11, 11, 256)       295168    \n",
      "_________________________________________________________________\n",
      "batch_normalization_25 (Batc (None, 11, 11, 256)       1024      \n",
      "_________________________________________________________________\n",
      "1_1_conv (Conv2D)            (None, 9, 9, 256)         590080    \n",
      "_________________________________________________________________\n",
      "batch_normalization_26 (Batc (None, 9, 9, 256)         1024      \n",
      "_________________________________________________________________\n",
      "1_conv_stride (Conv2D)       (None, 4, 4, 256)         590080    \n",
      "_________________________________________________________________\n",
      "batch_normalization_27 (Batc (None, 4, 4, 256)         1024      \n",
      "_________________________________________________________________\n",
      "flatten_4 (Flatten)          (None, 4096)              0         \n",
      "_________________________________________________________________\n",
      "fc1 (Dense)                  (None, 256)               1048832   \n",
      "_________________________________________________________________\n",
      "batch_normalization_28 (Batc (None, 256)               1024      \n",
      "_________________________________________________________________\n",
      "fc2 (Dense)                  (None, 25)                6425      \n",
      "=================================================================\n",
      "Total params: 2,834,975\n",
      "Trainable params: 2,832,159\n",
      "Non-trainable params: 2,816\n",
      "_________________________________________________________________\n",
      "None\n"
     ]
    }
   ],
   "source": [
    "\n",
    "\n",
    "\n",
    "rotated_model = models.simple_conv(input_shape,num_classes,filters=128)\n",
    "rotated_model.compile(loss=keras.losses.categorical_crossentropy,\n",
    "              optimizer=keras.optimizers.RMSprop(lr=0.0015),\n",
    "              metrics=['accuracy'])\n",
    "print(rotated_model.summary())\n"
   ]
  },
  {
   "cell_type": "code",
   "execution_count": 12,
   "metadata": {
    "scrolled": false
   },
   "outputs": [
    {
     "name": "stdout",
     "output_type": "stream",
     "text": [
      "Training model with unrotated dataset...\n",
      "Epoch 1/10\n",
      "1656/1656 [==============================] - 18s 11ms/step - loss: 0.3244 - acc: 0.9061 - val_loss: 1.0920 - val_acc: 0.7406\n",
      "Epoch 2/10\n",
      "1656/1656 [==============================] - 17s 10ms/step - loss: 0.0493 - acc: 0.9850 - val_loss: 1.1068 - val_acc: 0.7479\n",
      "Epoch 3/10\n",
      "1656/1656 [==============================] - 17s 10ms/step - loss: 0.0230 - acc: 0.9928 - val_loss: 1.0983 - val_acc: 0.7726\n",
      "Epoch 4/10\n",
      "1656/1656 [==============================] - 17s 10ms/step - loss: 0.0154 - acc: 0.9957 - val_loss: 1.5347 - val_acc: 0.7473\n",
      "Epoch 5/10\n",
      "1656/1656 [==============================] - 17s 10ms/step - loss: 0.0099 - acc: 0.9971 - val_loss: 1.4230 - val_acc: 0.7773\n",
      "Epoch 6/10\n",
      "1656/1656 [==============================] - 17s 10ms/step - loss: 0.0074 - acc: 0.9977 - val_loss: 1.2000 - val_acc: 0.7844\n",
      "Epoch 7/10\n",
      "1656/1656 [==============================] - 17s 10ms/step - loss: 0.0056 - acc: 0.9984 - val_loss: 1.3899 - val_acc: 0.7966\n",
      "Epoch 8/10\n",
      "1656/1656 [==============================] - 17s 10ms/step - loss: 0.0057 - acc: 0.9982 - val_loss: 1.6018 - val_acc: 0.7690\n",
      "Epoch 9/10\n",
      "1656/1656 [==============================] - 17s 10ms/step - loss: 0.0031 - acc: 0.9989 - val_loss: 1.5647 - val_acc: 0.7830\n",
      "Epoch 10/10\n",
      "1656/1656 [==============================] - 17s 10ms/step - loss: 0.0037 - acc: 0.9988 - val_loss: 1.7314 - val_acc: 0.7616\n",
      "Training rotated model with rotated dataset...\n",
      "Epoch 1/10\n",
      "1656/1656 [==============================] - 29s 17ms/step - loss: 1.4620 - acc: 0.5487 - val_loss: 1.5115 - val_acc: 0.5368\n",
      "Epoch 2/10\n",
      "1656/1656 [==============================] - 28s 17ms/step - loss: 0.5891 - acc: 0.8129 - val_loss: 2.0257 - val_acc: 0.5246\n",
      "Epoch 3/10\n",
      "1656/1656 [==============================] - 28s 17ms/step - loss: 0.3983 - acc: 0.8759 - val_loss: 1.6466 - val_acc: 0.5934\n",
      "Epoch 4/10\n",
      "1656/1656 [==============================] - 28s 17ms/step - loss: 0.3012 - acc: 0.9050 - val_loss: 1.4890 - val_acc: 0.6037\n",
      "Epoch 5/10\n",
      "1656/1656 [==============================] - 28s 17ms/step - loss: 0.2470 - acc: 0.9230 - val_loss: 1.4396 - val_acc: 0.6477\n",
      "Epoch 6/10\n",
      "1656/1656 [==============================] - 28s 17ms/step - loss: 0.2173 - acc: 0.9326 - val_loss: 1.7372 - val_acc: 0.6276\n",
      "Epoch 7/10\n",
      "1656/1656 [==============================] - 28s 17ms/step - loss: 0.1883 - acc: 0.9415 - val_loss: 1.5134 - val_acc: 0.6540\n",
      "Epoch 8/10\n",
      "1656/1656 [==============================] - 28s 17ms/step - loss: 0.1675 - acc: 0.9483 - val_loss: 1.6126 - val_acc: 0.6364\n",
      "Epoch 9/10\n",
      "1656/1656 [==============================] - 28s 17ms/step - loss: 0.1557 - acc: 0.9521 - val_loss: 1.6822 - val_acc: 0.6396\n",
      "Epoch 10/10\n",
      "1656/1656 [==============================] - 28s 17ms/step - loss: 0.1404 - acc: 0.9554 - val_loss: 1.4769 - val_acc: 0.6533\n",
      "Testing both models on both datasets...\n",
      "model_rotated_test_dataset score: loss=8.689855, accuracy=0.177359\n",
      "model_rotated_train_dataset score: loss=9.007173, accuracy=0.194860\n",
      "model_test_dataset score: loss=1.731379, accuracy=0.761618\n",
      "model_train_dataset score: loss=0.000812, accuracy=0.999830\n",
      "rotated_model_rotated_test_dataset score: loss=1.481958, accuracy=0.653575\n",
      "rotated_model_rotated_train_dataset score: loss=0.097854, accuracy=0.969184\n",
      "rotated_model_test_dataset score: loss=1.687470, accuracy=0.633938\n",
      "rotated_model_train_dataset score: loss=0.075968, accuracy=0.976562\n"
     ]
    }
   ],
   "source": [
    "import experiment\n",
    "batch_size = 32\n",
    "\n",
    "epochs={'cifar10':15,'mnist':20,'fashion_mnist':12,'cluttered_mnist':10,'lsa16':15,\"pugeault\":10}\n",
    "\n",
    "rotated_epochs={'cifar10':120,'mnist':50,'fashion_mnist':60,'cluttered_mnist':30,'lsa16':100,\"pugeault\":10}\n",
    "\n",
    "scores=experiment.train_rotated(model,rotated_model,x_train,y_train,x_test,\n",
    "                          y_test,num_classes,input_shape,batch_size,epochs[dataset],rotated_epochs[dataset])\n",
    "\n",
    "\n",
    "for k,v in scores.items():\n",
    "    print('%s score: loss=%f, accuracy=%f' % (k,v[0],v[1]))\n"
   ]
  },
  {
   "cell_type": "code",
   "execution_count": 13,
   "metadata": {
    "scrolled": true
   },
   "outputs": [
    {
     "name": "stdout",
     "output_type": "stream",
     "text": [
      "2018-06-01 00:32:47.993546\n",
      "Results on dataset pugeault with model simple_conv and rotated model simple_conv\n",
      "\n",
      "model_rotated_test_dataset score: loss=8.689855, accuracy=0.177359\n",
      "\n",
      "model_rotated_train_dataset score: loss=9.007173, accuracy=0.194860\n",
      "\n",
      "model_test_dataset score: loss=1.731379, accuracy=0.761618\n",
      "\n",
      "model_train_dataset score: loss=0.000812, accuracy=0.999830\n",
      "\n",
      "rotated_model_rotated_test_dataset score: loss=1.481958, accuracy=0.653575\n",
      "\n",
      "rotated_model_rotated_train_dataset score: loss=0.097854, accuracy=0.969184\n",
      "\n",
      "rotated_model_test_dataset score: loss=1.687470, accuracy=0.633938\n",
      "\n",
      "rotated_model_train_dataset score: loss=0.075968, accuracy=0.976562\n",
      "\n"
     ]
    }
   ],
   "source": [
    "from datetime import datetime\n",
    "\n",
    "output_file=\"results/simple_conv.txt\"\n",
    "f= open(output_file,\"a+\")\n",
    "general_message=\"%s\\nResults on dataset %s with model %s and rotated model %s\\n\" % (str(datetime.now()),dataset,model.name,rotated_model.name)\n",
    "f.write(general_message)\n",
    "print(general_message)\n",
    "for k,v in scores.items():\n",
    "    message='%s score: loss=%f, accuracy=%f\\n' % (k,v[0],v[1])\n",
    "    print(message)\n",
    "    f.write(message)\n",
    "f.write(\"\\n\\n\")    \n",
    "f.close()"
   ]
  }
 ],
 "metadata": {
  "kernelspec": {
   "display_name": "Python 3",
   "language": "python",
   "name": "python3"
  },
  "language_info": {
   "codemirror_mode": {
    "name": "ipython",
    "version": 3
   },
   "file_extension": ".py",
   "mimetype": "text/x-python",
   "name": "python",
   "nbconvert_exporter": "python",
   "pygments_lexer": "ipython3",
   "version": "3.6.1"
  }
 },
 "nbformat": 4,
 "nbformat_minor": 2
}
