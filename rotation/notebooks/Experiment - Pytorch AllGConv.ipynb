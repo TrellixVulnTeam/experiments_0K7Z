{
 "cells": [
  {
   "cell_type": "code",
   "execution_count": 2,
   "metadata": {},
   "outputs": [
    {
     "name": "stdout",
     "output_type": "stream",
     "text": [
      "The autoreload extension is already loaded. To reload it, use:\n",
      "  %reload_ext autoreload\n"
     ]
    }
   ],
   "source": [
    "%load_ext autoreload\n",
    "%autoreload 2\n",
    "import matplotlib.pyplot as plt\n",
    "plt.rcParams['image.cmap'] = 'gray'"
   ]
  },
  {
   "cell_type": "code",
   "execution_count": 3,
   "metadata": {},
   "outputs": [
    {
     "name": "stderr",
     "output_type": "stream",
     "text": [
      "Using TensorFlow backend.\n",
      "/home/facundo/.python/lib/python3.6/importlib/_bootstrap.py:205: RuntimeWarning: compiletime version 3.5 of module 'tensorflow.python.framework.fast_tensor_util' does not match runtime version 3.6\n",
      "  return f(*args, **kwds)\n"
     ]
    },
    {
     "name": "stdout",
     "output_type": "stream",
     "text": [
      "x_train shape: (50000, 32, 32, 3)\n",
      "50000 train samples\n",
      "10000 test samples\n"
     ]
    }
   ],
   "source": [
    "\n",
    "import keras\n",
    "from torchsummary import summary\n",
    "import os\n",
    "import datasets\n",
    "import pytorch_models,pytorch_experiment\n",
    "import torch.optim as optim\n",
    "import torch\n",
    "use_cuda=torch.cuda.is_available()\n",
    "\n",
    "dataset=\"cifar10\"\n",
    "(x_train, y_train), (x_test, y_test), input_shape,num_classes = datasets.get_data(dataset)\n",
    "\n",
    "\n",
    "print('x_train shape:', x_train.shape)\n",
    "print(x_train.shape[0], 'train samples')\n",
    "print(x_test.shape[0], 'test samples')\n",
    "\n",
    "\n",
    "\n"
   ]
  },
  {
   "cell_type": "code",
   "execution_count": 4,
   "metadata": {
    "scrolled": true
   },
   "outputs": [
    {
     "name": "stdout",
     "output_type": "stream",
     "text": [
      "AllGConv(\n",
      "  (conv): Sequential(\n",
      "    (0): P4ConvZ2()\n",
      "    (1): ReLU()\n",
      "    (2): ConvBNAct(\n",
      "      (model): Sequential(\n",
      "        (0): P4ConvP4()\n",
      "        (1): ReLU()\n",
      "      )\n",
      "    )\n",
      "    (3): ConvBNAct(\n",
      "      (model): Sequential(\n",
      "        (0): P4ConvP4()\n",
      "        (1): ReLU()\n",
      "      )\n",
      "    )\n",
      "    (4): ConvBNAct(\n",
      "      (model): Sequential(\n",
      "        (0): P4ConvP4()\n",
      "        (1): ReLU()\n",
      "      )\n",
      "    )\n",
      "    (5): ConvBNAct(\n",
      "      (model): Sequential(\n",
      "        (0): P4ConvP4()\n",
      "        (1): ReLU()\n",
      "      )\n",
      "    )\n",
      "    (6): ConvBNAct(\n",
      "      (model): Sequential(\n",
      "        (0): P4ConvP4()\n",
      "        (1): ReLU()\n",
      "      )\n",
      "    )\n",
      "    (7): ConvBNAct(\n",
      "      (model): Sequential(\n",
      "        (0): P4ConvP4()\n",
      "        (1): ReLU()\n",
      "      )\n",
      "    )\n",
      "    (8): ConvBNAct(\n",
      "      (model): Sequential(\n",
      "        (0): P4ConvP4()\n",
      "        (1): ReLU()\n",
      "      )\n",
      "    )\n",
      "  )\n",
      "  (class_conv): Conv2d(96, 10, kernel_size=(1, 1), stride=(1, 1))\n",
      ")\n"
     ]
    }
   ],
   "source": [
    "filters={'mnist':16,'mnist_rot':32,'cifar10':96}\n",
    "\n",
    "model = pytorch_models.AllGConv(input_shape,num_classes,filters=filters[dataset]//2)\n",
    "\n",
    "parameters=pytorch_experiment.add_weight_decay(model.named_parameters(),1e-9)\n",
    "optimizer = optim.Adam(parameters, lr=0.001)\n",
    "\n",
    "if use_cuda:\n",
    "    model=model.cuda()\n",
    "print(model)\n",
    "#summary(model, input_size=[1,28,28])\n"
   ]
  },
  {
   "cell_type": "code",
   "execution_count": 5,
   "metadata": {
    "scrolled": true
   },
   "outputs": [
    {
     "name": "stdout",
     "output_type": "stream",
     "text": [
      "AllGConv(\n",
      "  (conv): Sequential(\n",
      "    (0): P4ConvZ2()\n",
      "    (1): ReLU()\n",
      "    (2): ConvBNAct(\n",
      "      (model): Sequential(\n",
      "        (0): P4ConvP4()\n",
      "        (1): ReLU()\n",
      "      )\n",
      "    )\n",
      "    (3): ConvBNAct(\n",
      "      (model): Sequential(\n",
      "        (0): P4ConvP4()\n",
      "        (1): ReLU()\n",
      "      )\n",
      "    )\n",
      "    (4): ConvBNAct(\n",
      "      (model): Sequential(\n",
      "        (0): P4ConvP4()\n",
      "        (1): ReLU()\n",
      "      )\n",
      "    )\n",
      "    (5): ConvBNAct(\n",
      "      (model): Sequential(\n",
      "        (0): P4ConvP4()\n",
      "        (1): ReLU()\n",
      "      )\n",
      "    )\n",
      "    (6): ConvBNAct(\n",
      "      (model): Sequential(\n",
      "        (0): P4ConvP4()\n",
      "        (1): ReLU()\n",
      "      )\n",
      "    )\n",
      "    (7): ConvBNAct(\n",
      "      (model): Sequential(\n",
      "        (0): P4ConvP4()\n",
      "        (1): ReLU()\n",
      "      )\n",
      "    )\n",
      "    (8): ConvBNAct(\n",
      "      (model): Sequential(\n",
      "        (0): P4ConvP4()\n",
      "        (1): ReLU()\n",
      "      )\n",
      "    )\n",
      "  )\n",
      "  (class_conv): Conv2d(96, 10, kernel_size=(1, 1), stride=(1, 1))\n",
      ")\n"
     ]
    }
   ],
   "source": [
    "\n",
    "rotated_model=pytorch_models.AllGConv(input_shape,num_classes,filters=filters[dataset]//2)\n",
    "if use_cuda:\n",
    "    rotated_model= rotated_model.cuda()\n",
    "\n",
    "\n",
    "rotated_parameters=pytorch_experiment.add_weight_decay(rotated_model.named_parameters(),1e-9)\n",
    "rotated_optimizer = optim.Adam(rotated_parameters, lr=0.001)\n",
    "\n",
    "print(rotated_model)\n",
    "#summary(model, input_size=[1,28,28])\n",
    "\n"
   ]
  },
  {
   "cell_type": "code",
   "execution_count": 6,
   "metadata": {
    "scrolled": true
   },
   "outputs": [
    {
     "name": "stdout",
     "output_type": "stream",
     "text": [
      "Training model with unrotated dataset...\n"
     ]
    },
    {
     "name": "stderr",
     "output_type": "stream",
     "text": [
      "Epoch 1: 100% (batch 196/196)  ==stats==> loss:   2.31, accuracy:  0.108, Time:  0:01:58\n"
     ]
    },
    {
     "name": "stdout",
     "output_type": "stream",
     "text": [
      "Test => Loss: 2.2472, Accuracy: 13.09% (1309/10000)\n"
     ]
    },
    {
     "name": "stderr",
     "output_type": "stream",
     "text": [
      "Epoch 2: 100% (batch 196/196)  ==stats==> loss:   2.21, accuracy:  0.173, Time:  0:01:55\n"
     ]
    },
    {
     "name": "stdout",
     "output_type": "stream",
     "text": [
      "Test => Loss: 2.1957, Accuracy: 17.42% (1742/10000)\n"
     ]
    },
    {
     "name": "stderr",
     "output_type": "stream",
     "text": [
      "Epoch 3: 100% (batch 196/196)  ==stats==> loss:   2.18, accuracy:   0.18, Time:  0:01:56\n"
     ]
    },
    {
     "name": "stdout",
     "output_type": "stream",
     "text": [
      "Test => Loss: 2.1839, Accuracy: 18.74% (1874/10000)\n"
     ]
    },
    {
     "name": "stderr",
     "output_type": "stream",
     "text": [
      "Epoch 4: 100% (batch 196/196)  ==stats==> loss:   2.15, accuracy:  0.206, Time:  0:02:18\n"
     ]
    },
    {
     "name": "stdout",
     "output_type": "stream",
     "text": [
      "Test => Loss: 2.0424, Accuracy: 26.88% (2688/10000)\n"
     ]
    },
    {
     "name": "stderr",
     "output_type": "stream",
     "text": [
      "Epoch 5: 100% (batch 196/196)  ==stats==> loss:   1.91, accuracy:  0.319, Time:  0:01:52\n"
     ]
    },
    {
     "name": "stdout",
     "output_type": "stream",
     "text": [
      "Test => Loss: 1.7656, Accuracy: 37.74% (3774/10000)\n"
     ]
    },
    {
     "name": "stderr",
     "output_type": "stream",
     "text": [
      "Epoch 6: 100% (batch 196/196)  ==stats==> loss:   1.66, accuracy:  0.444, Time:  0:01:41\n"
     ]
    },
    {
     "name": "stdout",
     "output_type": "stream",
     "text": [
      "Test => Loss: 1.5440, Accuracy: 49.77% (4977/10000)\n"
     ]
    },
    {
     "name": "stderr",
     "output_type": "stream",
     "text": [
      "Epoch 7: 100% (batch 196/196)  ==stats==> loss:   1.46, accuracy:  0.529, Time:  0:01:40\n"
     ]
    },
    {
     "name": "stdout",
     "output_type": "stream",
     "text": [
      "Test => Loss: 1.4521, Accuracy: 53.40% (5340/10000)\n"
     ]
    },
    {
     "name": "stderr",
     "output_type": "stream",
     "text": [
      "Epoch 8: 100% (batch 196/196)  ==stats==> loss:   1.32, accuracy:  0.576, Time:  0:01:41\n"
     ]
    },
    {
     "name": "stdout",
     "output_type": "stream",
     "text": [
      "Test => Loss: 1.3004, Accuracy: 59.10% (5910/10000)\n"
     ]
    },
    {
     "name": "stderr",
     "output_type": "stream",
     "text": [
      "Epoch 9: 100% (batch 196/196)  ==stats==> loss:   1.17, accuracy:  0.629, Time:  0:01:13\n"
     ]
    },
    {
     "name": "stdout",
     "output_type": "stream",
     "text": [
      "Test => Loss: 1.2360, Accuracy: 61.77% (6177/10000)\n"
     ]
    },
    {
     "name": "stderr",
     "output_type": "stream",
     "text": [
      "Epoch 10: 100% (batch 196/196)  ==stats==> loss:   1.08, accuracy:   0.66, Time:  0:00:45\n"
     ]
    },
    {
     "name": "stdout",
     "output_type": "stream",
     "text": [
      "Test => Loss: 1.1908, Accuracy: 63.58% (6358/10000)\n"
     ]
    },
    {
     "name": "stderr",
     "output_type": "stream",
     "text": [
      "Epoch 11: 100% (batch 196/196)  ==stats==> loss:   1.01, accuracy:  0.686, Time:  0:00:45\n"
     ]
    },
    {
     "name": "stdout",
     "output_type": "stream",
     "text": [
      "Test => Loss: 1.1933, Accuracy: 63.09% (6309/10000)\n"
     ]
    },
    {
     "name": "stderr",
     "output_type": "stream",
     "text": [
      "Epoch 12: 100% (batch 196/196)  ==stats==> loss:  0.947, accuracy:  0.706, Time:  0:00:45\n"
     ]
    },
    {
     "name": "stdout",
     "output_type": "stream",
     "text": [
      "Test => Loss: 1.1626, Accuracy: 64.07% (6407/10000)\n"
     ]
    },
    {
     "name": "stderr",
     "output_type": "stream",
     "text": [
      "Epoch 13: 100% (batch 196/196)  ==stats==> loss:  0.891, accuracy:  0.725, Time:  0:00:45\n"
     ]
    },
    {
     "name": "stdout",
     "output_type": "stream",
     "text": [
      "Test => Loss: 1.2396, Accuracy: 64.09% (6409/10000)\n"
     ]
    },
    {
     "name": "stderr",
     "output_type": "stream",
     "text": [
      "Epoch 14: 100% (batch 196/196)  ==stats==> loss:  0.848, accuracy:   0.74, Time:  0:00:45\n"
     ]
    },
    {
     "name": "stdout",
     "output_type": "stream",
     "text": [
      "Test => Loss: 1.2078, Accuracy: 64.20% (6420/10000)\n"
     ]
    },
    {
     "name": "stderr",
     "output_type": "stream",
     "text": [
      "Epoch 15: 100% (batch 196/196)  ==stats==> loss:  0.801, accuracy:  0.754, Time:  0:00:45\n"
     ]
    },
    {
     "name": "stdout",
     "output_type": "stream",
     "text": [
      "Test => Loss: 1.2301, Accuracy: 65.18% (6518/10000)\n"
     ]
    },
    {
     "name": "stderr",
     "output_type": "stream",
     "text": [
      "Epoch 16: 100% (batch 196/196)  ==stats==> loss:  0.771, accuracy:  0.763, Time:  0:00:45\n"
     ]
    },
    {
     "name": "stdout",
     "output_type": "stream",
     "text": [
      "Test => Loss: 1.2530, Accuracy: 64.05% (6405/10000)\n"
     ]
    },
    {
     "name": "stderr",
     "output_type": "stream",
     "text": [
      "Epoch 17: 100% (batch 196/196)  ==stats==> loss:  0.736, accuracy:  0.774, Time:  0:00:45\n"
     ]
    },
    {
     "name": "stdout",
     "output_type": "stream",
     "text": [
      "Test => Loss: 1.4186, Accuracy: 62.86% (6286/10000)\n"
     ]
    },
    {
     "name": "stderr",
     "output_type": "stream",
     "text": [
      "Epoch 18: 100% (batch 196/196)  ==stats==> loss:  0.721, accuracy:  0.778, Time:  0:00:45\n"
     ]
    },
    {
     "name": "stdout",
     "output_type": "stream",
     "text": [
      "Test => Loss: 1.3568, Accuracy: 64.27% (6427/10000)\n"
     ]
    },
    {
     "name": "stderr",
     "output_type": "stream",
     "text": [
      "Epoch 19: 100% (batch 196/196)  ==stats==> loss:  0.706, accuracy:  0.781, Time:  0:00:45\n"
     ]
    },
    {
     "name": "stdout",
     "output_type": "stream",
     "text": [
      "Test => Loss: 1.4302, Accuracy: 63.23% (6323/10000)\n"
     ]
    },
    {
     "name": "stderr",
     "output_type": "stream",
     "text": [
      "Epoch 20: 100% (batch 196/196)  ==stats==> loss:  0.712, accuracy:  0.779, Time:  0:00:45\n"
     ]
    },
    {
     "name": "stdout",
     "output_type": "stream",
     "text": [
      "Test => Loss: 1.4302, Accuracy: 63.39% (6339/10000)\n"
     ]
    },
    {
     "name": "stderr",
     "output_type": "stream",
     "text": [
      "Epoch 21: 100% (batch 196/196)  ==stats==> loss:  0.698, accuracy:  0.784, Time:  0:00:45\n"
     ]
    },
    {
     "name": "stdout",
     "output_type": "stream",
     "text": [
      "Test => Loss: 1.4667, Accuracy: 62.80% (6280/10000)\n"
     ]
    },
    {
     "name": "stderr",
     "output_type": "stream",
     "text": [
      "Epoch 22: 100% (batch 196/196)  ==stats==> loss:  0.679, accuracy:  0.789, Time:  0:00:45\n"
     ]
    },
    {
     "name": "stdout",
     "output_type": "stream",
     "text": [
      "Test => Loss: 1.4429, Accuracy: 63.19% (6319/10000)\n"
     ]
    },
    {
     "name": "stderr",
     "output_type": "stream",
     "text": [
      "Epoch 23: 100% (batch 196/196)  ==stats==> loss:  0.683, accuracy:  0.787, Time:  0:00:45\n"
     ]
    },
    {
     "name": "stdout",
     "output_type": "stream",
     "text": [
      "Test => Loss: 1.7082, Accuracy: 63.02% (6302/10000)\n"
     ]
    },
    {
     "name": "stderr",
     "output_type": "stream",
     "text": [
      "Epoch 24: 100% (batch 196/196)  ==stats==> loss:  0.694, accuracy:  0.784, Time:  0:00:45\n"
     ]
    },
    {
     "name": "stdout",
     "output_type": "stream",
     "text": [
      "Test => Loss: 1.4335, Accuracy: 63.06% (6306/10000)\n"
     ]
    },
    {
     "name": "stderr",
     "output_type": "stream",
     "text": [
      "Epoch 25: 100% (batch 196/196)  ==stats==> loss:  0.673, accuracy:   0.79, Time:  0:00:45\n"
     ]
    },
    {
     "name": "stdout",
     "output_type": "stream",
     "text": [
      "Test => Loss: 1.5375, Accuracy: 63.89% (6389/10000)\n"
     ]
    },
    {
     "name": "stderr",
     "output_type": "stream",
     "text": [
      "Epoch 26: 100% (batch 196/196)  ==stats==> loss:  0.681, accuracy:  0.787, Time:  0:00:45\n"
     ]
    },
    {
     "name": "stdout",
     "output_type": "stream",
     "text": [
      "Test => Loss: 1.5146, Accuracy: 63.42% (6342/10000)\n"
     ]
    },
    {
     "name": "stderr",
     "output_type": "stream",
     "text": [
      "Epoch 27: 100% (batch 196/196)  ==stats==> loss:   0.67, accuracy:  0.789, Time:  0:00:45\n"
     ]
    },
    {
     "name": "stdout",
     "output_type": "stream",
     "text": [
      "Test => Loss: 1.5376, Accuracy: 62.36% (6236/10000)\n"
     ]
    },
    {
     "name": "stderr",
     "output_type": "stream",
     "text": [
      "Epoch 28: 100% (batch 196/196)  ==stats==> loss:   0.68, accuracy:  0.788, Time:  0:00:45\n"
     ]
    },
    {
     "name": "stdout",
     "output_type": "stream",
     "text": [
      "Test => Loss: 1.6022, Accuracy: 62.65% (6265/10000)\n"
     ]
    },
    {
     "name": "stderr",
     "output_type": "stream",
     "text": [
      "Epoch 29: 100% (batch 196/196)  ==stats==> loss:  0.672, accuracy:  0.789, Time:  0:00:45\n"
     ]
    },
    {
     "name": "stdout",
     "output_type": "stream",
     "text": [
      "Test => Loss: 1.6240, Accuracy: 63.67% (6367/10000)\n"
     ]
    },
    {
     "name": "stderr",
     "output_type": "stream",
     "text": [
      "Epoch 30: 100% (batch 196/196)  ==stats==> loss:   0.67, accuracy:   0.79, Time:  0:00:45\n"
     ]
    },
    {
     "name": "stdout",
     "output_type": "stream",
     "text": [
      "Test => Loss: 1.5938, Accuracy: 62.48% (6248/10000)\n"
     ]
    },
    {
     "name": "stderr",
     "output_type": "stream",
     "text": [
      "Epoch 31: 100% (batch 196/196)  ==stats==> loss:  0.675, accuracy:  0.789, Time:  0:00:45\n"
     ]
    },
    {
     "name": "stdout",
     "output_type": "stream",
     "text": [
      "Test => Loss: 1.5997, Accuracy: 63.41% (6341/10000)\n"
     ]
    },
    {
     "name": "stderr",
     "output_type": "stream",
     "text": [
      "Epoch 32: 100% (batch 196/196)  ==stats==> loss:   0.67, accuracy:   0.79, Time:  0:00:45\n"
     ]
    },
    {
     "name": "stdout",
     "output_type": "stream",
     "text": [
      "Test => Loss: 1.6351, Accuracy: 63.27% (6327/10000)\n"
     ]
    },
    {
     "name": "stderr",
     "output_type": "stream",
     "text": [
      "Epoch 33: 100% (batch 196/196)  ==stats==> loss:  0.675, accuracy:  0.788, Time:  0:00:45\n"
     ]
    },
    {
     "name": "stdout",
     "output_type": "stream",
     "text": [
      "Test => Loss: 1.7812, Accuracy: 62.80% (6280/10000)\n"
     ]
    },
    {
     "name": "stderr",
     "output_type": "stream",
     "text": [
      "Epoch 34: 100% (batch 196/196)  ==stats==> loss:  0.684, accuracy:  0.786, Time:  0:00:45\n"
     ]
    },
    {
     "name": "stdout",
     "output_type": "stream",
     "text": [
      "Test => Loss: 1.4993, Accuracy: 61.26% (6126/10000)\n"
     ]
    },
    {
     "name": "stderr",
     "output_type": "stream",
     "text": [
      "Epoch 35: 100% (batch 196/196)  ==stats==> loss:   0.67, accuracy:   0.79, Time:  0:00:45\n"
     ]
    },
    {
     "name": "stdout",
     "output_type": "stream",
     "text": [
      "Test => Loss: 1.6809, Accuracy: 62.85% (6285/10000)\n"
     ]
    },
    {
     "name": "stderr",
     "output_type": "stream",
     "text": [
      "Epoch 36: 100% (batch 196/196)  ==stats==> loss:  0.667, accuracy:  0.791, Time:  0:00:45\n"
     ]
    },
    {
     "name": "stdout",
     "output_type": "stream",
     "text": [
      "Test => Loss: 1.7704, Accuracy: 63.12% (6312/10000)\n"
     ]
    },
    {
     "name": "stderr",
     "output_type": "stream",
     "text": [
      "Epoch 37: 100% (batch 196/196)  ==stats==> loss:  0.662, accuracy:  0.792, Time:  0:00:44\n"
     ]
    },
    {
     "name": "stdout",
     "output_type": "stream",
     "text": [
      "Test => Loss: 1.7482, Accuracy: 62.60% (6260/10000)\n"
     ]
    },
    {
     "name": "stderr",
     "output_type": "stream",
     "text": [
      "Epoch 38: 100% (batch 196/196)  ==stats==> loss:  0.649, accuracy:  0.795, Time:  0:00:44\n"
     ]
    },
    {
     "name": "stdout",
     "output_type": "stream",
     "text": [
      "Test => Loss: 1.7494, Accuracy: 61.64% (6164/10000)\n"
     ]
    },
    {
     "name": "stderr",
     "output_type": "stream",
     "text": [
      "Epoch 39: 100% (batch 196/196)  ==stats==> loss:  0.668, accuracy:  0.791, Time:  0:00:44\n"
     ]
    },
    {
     "name": "stdout",
     "output_type": "stream",
     "text": [
      "Test => Loss: 1.6510, Accuracy: 62.17% (6217/10000)\n"
     ]
    },
    {
     "name": "stderr",
     "output_type": "stream",
     "text": [
      "Epoch 40: 100% (batch 196/196)  ==stats==> loss:  0.681, accuracy:  0.786, Time:  0:00:44\n"
     ]
    },
    {
     "name": "stdout",
     "output_type": "stream",
     "text": [
      "Test => Loss: 1.7909, Accuracy: 62.82% (6282/10000)\n"
     ]
    },
    {
     "data": {
      "image/png": "[encoded data removed]",
      "text/plain": [
       "<matplotlib.figure.Figure at 0x7f4c4e9dcfd0>"
      ]
     },
     "metadata": {},
     "output_type": "display_data"
    },
    {
     "name": "stdout",
     "output_type": "stream",
     "text": [
      "Skipping pretraining rotated model with unrotated dataset\n",
      "Training rotated model with rotated dataset...\n"
     ]
    },
    {
     "name": "stderr",
     "output_type": "stream",
     "text": [
      "Epoch 1: 100% (batch 196/196)  ==stats==> loss:   2.17, accuracy:  0.186, Time:  0:00:44\n"
     ]
    },
    {
     "name": "stdout",
     "output_type": "stream",
     "text": [
      "Test => Loss: 2.1391, Accuracy: 20.69% (2069/10000)\n"
     ]
    },
    {
     "name": "stderr",
     "output_type": "stream",
     "text": [
      "Epoch 2: 100% (batch 196/196)  ==stats==> loss:   2.01, accuracy:   0.26, Time:  0:00:44\n"
     ]
    },
    {
     "name": "stdout",
     "output_type": "stream",
     "text": [
      "Test => Loss: 1.9309, Accuracy: 30.75% (3075/10000)\n"
     ]
    },
    {
     "name": "stderr",
     "output_type": "stream",
     "text": [
      "Epoch 3: 100% (batch 196/196)  ==stats==> loss:   1.87, accuracy:  0.327, Time:  0:00:44\n"
     ]
    },
    {
     "name": "stdout",
     "output_type": "stream",
     "text": [
      "Test => Loss: 1.8185, Accuracy: 35.65% (3565/10000)\n"
     ]
    },
    {
     "name": "stderr",
     "output_type": "stream",
     "text": [
      "Epoch 4: 100% (batch 196/196)  ==stats==> loss:   1.74, accuracy:  0.391, Time:  0:00:44\n"
     ]
    },
    {
     "name": "stdout",
     "output_type": "stream",
     "text": [
      "Test => Loss: 1.6634, Accuracy: 42.61% (4261/10000)\n"
     ]
    },
    {
     "name": "stderr",
     "output_type": "stream",
     "text": [
      "Epoch 5: 100% (batch 196/196)  ==stats==> loss:   1.59, accuracy:  0.457, Time:  0:00:44\n"
     ]
    },
    {
     "name": "stdout",
     "output_type": "stream",
     "text": [
      "Test => Loss: 1.4864, Accuracy: 49.25% (4925/10000)\n"
     ]
    },
    {
     "name": "stderr",
     "output_type": "stream",
     "text": [
      "Epoch 6: 100% (batch 196/196)  ==stats==> loss:   1.45, accuracy:  0.511, Time:  0:00:44\n"
     ]
    },
    {
     "name": "stdout",
     "output_type": "stream",
     "text": [
      "Test => Loss: 1.4700, Accuracy: 50.34% (5034/10000)\n"
     ]
    },
    {
     "name": "stderr",
     "output_type": "stream",
     "text": [
      "Epoch 7: 100% (batch 196/196)  ==stats==> loss:   1.36, accuracy:  0.545, Time:  0:00:44\n"
     ]
    },
    {
     "name": "stdout",
     "output_type": "stream",
     "text": [
      "Test => Loss: 1.3365, Accuracy: 55.85% (5585/10000)\n"
     ]
    },
    {
     "name": "stderr",
     "output_type": "stream",
     "text": [
      "Epoch 8: 100% (batch 196/196)  ==stats==> loss:   1.28, accuracy:  0.577, Time:  0:00:44\n"
     ]
    },
    {
     "name": "stdout",
     "output_type": "stream",
     "text": [
      "Test => Loss: 1.2808, Accuracy: 57.84% (5784/10000)\n"
     ]
    },
    {
     "name": "stderr",
     "output_type": "stream",
     "text": [
      "Epoch 9: 100% (batch 196/196)  ==stats==> loss:   1.21, accuracy:    0.6, Time:  0:00:44\n"
     ]
    },
    {
     "name": "stdout",
     "output_type": "stream",
     "text": [
      "Test => Loss: 1.2206, Accuracy: 60.21% (6021/10000)\n"
     ]
    },
    {
     "name": "stderr",
     "output_type": "stream",
     "text": [
      "Epoch 10: 100% (batch 196/196)  ==stats==> loss:   1.17, accuracy:  0.619, Time:  0:00:44\n"
     ]
    },
    {
     "name": "stdout",
     "output_type": "stream",
     "text": [
      "Test => Loss: 1.1679, Accuracy: 61.65% (6165/10000)\n"
     ]
    },
    {
     "name": "stderr",
     "output_type": "stream",
     "text": [
      "Epoch 11: 100% (batch 196/196)  ==stats==> loss:   1.12, accuracy:  0.633, Time:  0:00:44\n"
     ]
    },
    {
     "name": "stdout",
     "output_type": "stream",
     "text": [
      "Test => Loss: 1.1332, Accuracy: 62.89% (6289/10000)\n"
     ]
    },
    {
     "name": "stderr",
     "output_type": "stream",
     "text": [
      "Epoch 12: 100% (batch 196/196)  ==stats==> loss:   1.07, accuracy:   0.65, Time:  0:00:44\n"
     ]
    },
    {
     "name": "stdout",
     "output_type": "stream",
     "text": [
      "Test => Loss: 1.1370, Accuracy: 63.07% (6307/10000)\n"
     ]
    },
    {
     "name": "stderr",
     "output_type": "stream",
     "text": [
      "Epoch 13: 100% (batch 196/196)  ==stats==> loss:   1.04, accuracy:  0.661, Time:  0:00:44\n"
     ]
    },
    {
     "name": "stdout",
     "output_type": "stream",
     "text": [
      "Test => Loss: 1.1098, Accuracy: 64.19% (6419/10000)\n"
     ]
    },
    {
     "name": "stderr",
     "output_type": "stream",
     "text": [
      "Epoch 14: 100% (batch 196/196)  ==stats==> loss:   1.02, accuracy:  0.668, Time:  0:00:44\n"
     ]
    },
    {
     "name": "stdout",
     "output_type": "stream",
     "text": [
      "Test => Loss: 1.0657, Accuracy: 65.11% (6511/10000)\n"
     ]
    },
    {
     "name": "stderr",
     "output_type": "stream",
     "text": [
      "Epoch 15: 100% (batch 196/196)  ==stats==> loss:  0.984, accuracy:  0.679, Time:  0:00:44\n"
     ]
    },
    {
     "name": "stdout",
     "output_type": "stream",
     "text": [
      "Test => Loss: 1.0344, Accuracy: 66.52% (6652/10000)\n"
     ]
    },
    {
     "name": "stderr",
     "output_type": "stream",
     "text": [
      "Epoch 16: 100% (batch 196/196)  ==stats==> loss:  0.969, accuracy:  0.685, Time:  0:00:44\n"
     ]
    },
    {
     "name": "stdout",
     "output_type": "stream",
     "text": [
      "Test => Loss: 1.0469, Accuracy: 66.30% (6630/10000)\n"
     ]
    },
    {
     "name": "stderr",
     "output_type": "stream",
     "text": [
      "Epoch 17: 100% (batch 196/196)  ==stats==> loss:  0.943, accuracy:  0.694, Time:  0:00:44\n"
     ]
    },
    {
     "name": "stdout",
     "output_type": "stream",
     "text": [
      "Test => Loss: 1.0291, Accuracy: 67.26% (6726/10000)\n"
     ]
    },
    {
     "name": "stderr",
     "output_type": "stream",
     "text": [
      "Epoch 18: 100% (batch 196/196)  ==stats==> loss:  0.915, accuracy:  0.702, Time:  0:00:44\n"
     ]
    },
    {
     "name": "stdout",
     "output_type": "stream",
     "text": [
      "Test => Loss: 1.0176, Accuracy: 67.00% (6700/10000)\n"
     ]
    },
    {
     "name": "stderr",
     "output_type": "stream",
     "text": [
      "Epoch 19: 100% (batch 196/196)  ==stats==> loss:  0.892, accuracy:  0.709, Time:  0:00:44\n"
     ]
    },
    {
     "name": "stdout",
     "output_type": "stream",
     "text": [
      "Test => Loss: 1.0220, Accuracy: 66.58% (6658/10000)\n"
     ]
    },
    {
     "name": "stderr",
     "output_type": "stream",
     "text": [
      "Epoch 20: 100% (batch 196/196)  ==stats==> loss:  0.889, accuracy:   0.71, Time:  0:00:44\n"
     ]
    },
    {
     "name": "stdout",
     "output_type": "stream",
     "text": [
      "Test => Loss: 1.0024, Accuracy: 67.67% (6767/10000)\n"
     ]
    },
    {
     "name": "stderr",
     "output_type": "stream",
     "text": [
      "Epoch 21: 100% (batch 196/196)  ==stats==> loss:  0.857, accuracy:  0.721, Time:  0:00:44\n"
     ]
    },
    {
     "name": "stdout",
     "output_type": "stream",
     "text": [
      "Test => Loss: 0.9905, Accuracy: 67.95% (6795/10000)\n"
     ]
    },
    {
     "name": "stderr",
     "output_type": "stream",
     "text": [
      "Epoch 22: 100% (batch 196/196)  ==stats==> loss:  0.856, accuracy:  0.722, Time:  0:00:44\n"
     ]
    },
    {
     "name": "stdout",
     "output_type": "stream",
     "text": [
      "Test => Loss: 0.9760, Accuracy: 68.36% (6836/10000)\n"
     ]
    },
    {
     "name": "stderr",
     "output_type": "stream",
     "text": [
      "Epoch 23: 100% (batch 196/196)  ==stats==> loss:  0.831, accuracy:  0.729, Time:  0:00:44\n"
     ]
    },
    {
     "name": "stdout",
     "output_type": "stream",
     "text": [
      "Test => Loss: 0.9730, Accuracy: 68.72% (6872/10000)\n"
     ]
    },
    {
     "name": "stderr",
     "output_type": "stream",
     "text": [
      "Epoch 24: 100% (batch 196/196)  ==stats==> loss:  0.828, accuracy:   0.73, Time:  0:00:44\n"
     ]
    },
    {
     "name": "stdout",
     "output_type": "stream",
     "text": [
      "Test => Loss: 1.0044, Accuracy: 67.25% (6725/10000)\n"
     ]
    },
    {
     "name": "stderr",
     "output_type": "stream",
     "text": [
      "Epoch 25: 100% (batch 196/196)  ==stats==> loss:  0.807, accuracy:  0.737, Time:  0:00:44\n"
     ]
    },
    {
     "name": "stdout",
     "output_type": "stream",
     "text": [
      "Test => Loss: 1.0159, Accuracy: 67.02% (6702/10000)\n"
     ]
    },
    {
     "name": "stderr",
     "output_type": "stream",
     "text": [
      "Epoch 26: 100% (batch 196/196)  ==stats==> loss:  0.791, accuracy:  0.743, Time:  0:00:44\n"
     ]
    },
    {
     "name": "stdout",
     "output_type": "stream",
     "text": [
      "Test => Loss: 0.9579, Accuracy: 68.63% (6863/10000)\n"
     ]
    },
    {
     "name": "stderr",
     "output_type": "stream",
     "text": [
      "Epoch 27: 100% (batch 196/196)  ==stats==> loss:   0.78, accuracy:  0.745, Time:  0:00:44\n"
     ]
    },
    {
     "name": "stdout",
     "output_type": "stream",
     "text": [
      "Test => Loss: 0.9584, Accuracy: 69.01% (6901/10000)\n"
     ]
    },
    {
     "name": "stderr",
     "output_type": "stream",
     "text": [
      "Epoch 28: 100% (batch 196/196)  ==stats==> loss:  0.762, accuracy:  0.753, Time:  0:00:44\n"
     ]
    },
    {
     "name": "stdout",
     "output_type": "stream",
     "text": [
      "Test => Loss: 0.9670, Accuracy: 69.10% (6910/10000)\n"
     ]
    },
    {
     "name": "stderr",
     "output_type": "stream",
     "text": [
      "Epoch 29: 100% (batch 196/196)  ==stats==> loss:  0.757, accuracy:  0.753, Time:  0:00:44\n"
     ]
    },
    {
     "name": "stdout",
     "output_type": "stream",
     "text": [
      "Test => Loss: 0.9449, Accuracy: 70.36% (7036/10000)\n"
     ]
    },
    {
     "name": "stderr",
     "output_type": "stream",
     "text": [
      "Epoch 30: 100% (batch 196/196)  ==stats==> loss:  0.743, accuracy:  0.757, Time:  0:00:44\n"
     ]
    },
    {
     "name": "stdout",
     "output_type": "stream",
     "text": [
      "Test => Loss: 0.9861, Accuracy: 69.36% (6936/10000)\n"
     ]
    },
    {
     "name": "stderr",
     "output_type": "stream",
     "text": [
      "Epoch 31: 100% (batch 196/196)  ==stats==> loss:   0.73, accuracy:   0.76, Time:  0:00:44\n"
     ]
    },
    {
     "name": "stdout",
     "output_type": "stream",
     "text": [
      "Test => Loss: 0.9416, Accuracy: 70.11% (7011/10000)\n"
     ]
    },
    {
     "name": "stderr",
     "output_type": "stream",
     "text": [
      "Epoch 32: 100% (batch 196/196)  ==stats==> loss:  0.725, accuracy:  0.762, Time:  0:00:44\n"
     ]
    },
    {
     "name": "stdout",
     "output_type": "stream",
     "text": [
      "Test => Loss: 0.9439, Accuracy: 69.90% (6990/10000)\n"
     ]
    },
    {
     "name": "stderr",
     "output_type": "stream",
     "text": [
      "Epoch 33: 100% (batch 196/196)  ==stats==> loss:  0.719, accuracy:  0.764, Time:  0:00:44\n"
     ]
    },
    {
     "name": "stdout",
     "output_type": "stream",
     "text": [
      "Test => Loss: 0.9816, Accuracy: 70.35% (7035/10000)\n"
     ]
    },
    {
     "name": "stderr",
     "output_type": "stream",
     "text": [
      "Epoch 34: 100% (batch 196/196)  ==stats==> loss:  0.708, accuracy:  0.767, Time:  0:00:44\n"
     ]
    },
    {
     "name": "stdout",
     "output_type": "stream",
     "text": [
      "Test => Loss: 0.9481, Accuracy: 69.63% (6963/10000)\n"
     ]
    },
    {
     "name": "stderr",
     "output_type": "stream",
     "text": [
      "Epoch 35: 100% (batch 196/196)  ==stats==> loss:  0.716, accuracy:  0.765, Time:  0:00:44\n"
     ]
    },
    {
     "name": "stdout",
     "output_type": "stream",
     "text": [
      "Test => Loss: 0.9478, Accuracy: 69.91% (6991/10000)\n"
     ]
    },
    {
     "name": "stderr",
     "output_type": "stream",
     "text": [
      "Epoch 36: 100% (batch 196/196)  ==stats==> loss:  0.685, accuracy:  0.775, Time:  0:00:44\n"
     ]
    },
    {
     "name": "stdout",
     "output_type": "stream",
     "text": [
      "Test => Loss: 0.9354, Accuracy: 70.45% (7045/10000)\n"
     ]
    },
    {
     "name": "stderr",
     "output_type": "stream",
     "text": [
      "Epoch 37: 100% (batch 196/196)  ==stats==> loss:  0.685, accuracy:  0.775, Time:  0:00:44\n"
     ]
    },
    {
     "name": "stdout",
     "output_type": "stream",
     "text": [
      "Test => Loss: 0.9755, Accuracy: 70.37% (7037/10000)\n"
     ]
    },
    {
     "name": "stderr",
     "output_type": "stream",
     "text": [
      "Epoch 38: 100% (batch 196/196)  ==stats==> loss:  0.673, accuracy:  0.779, Time:  0:00:44\n"
     ]
    },
    {
     "name": "stdout",
     "output_type": "stream",
     "text": [
      "Test => Loss: 0.9616, Accuracy: 70.46% (7046/10000)\n"
     ]
    },
    {
     "name": "stderr",
     "output_type": "stream",
     "text": [
      "Epoch 39: 100% (batch 196/196)  ==stats==> loss:  0.664, accuracy:  0.781, Time:  0:00:44\n"
     ]
    },
    {
     "name": "stdout",
     "output_type": "stream",
     "text": [
      "Test => Loss: 1.0102, Accuracy: 68.79% (6879/10000)\n"
     ]
    },
    {
     "name": "stderr",
     "output_type": "stream",
     "text": [
      "Epoch 40: 100% (batch 196/196)  ==stats==> loss:  0.658, accuracy:  0.784, Time:  0:00:44\n"
     ]
    },
    {
     "name": "stdout",
     "output_type": "stream",
     "text": [
      "Test => Loss: 0.9336, Accuracy: 70.71% (7071/10000)\n"
     ]
    },
    {
     "name": "stderr",
     "output_type": "stream",
     "text": [
      "Epoch 41: 100% (batch 196/196)  ==stats==> loss:   0.66, accuracy:  0.781, Time:  0:00:44\n"
     ]
    },
    {
     "name": "stdout",
     "output_type": "stream",
     "text": [
      "Test => Loss: 0.9659, Accuracy: 70.79% (7079/10000)\n"
     ]
    },
    {
     "name": "stderr",
     "output_type": "stream",
     "text": [
      "Epoch 42: 100% (batch 196/196)  ==stats==> loss:   0.65, accuracy:  0.785, Time:  0:00:44\n"
     ]
    },
    {
     "name": "stdout",
     "output_type": "stream",
     "text": [
      "Test => Loss: 0.9828, Accuracy: 70.94% (7094/10000)\n"
     ]
    },
    {
     "name": "stderr",
     "output_type": "stream",
     "text": [
      "Epoch 43: 100% (batch 196/196)  ==stats==> loss:  0.633, accuracy:  0.791, Time:  0:00:44\n"
     ]
    },
    {
     "name": "stdout",
     "output_type": "stream",
     "text": [
      "Test => Loss: 0.9376, Accuracy: 70.32% (7032/10000)\n"
     ]
    },
    {
     "name": "stderr",
     "output_type": "stream",
     "text": [
      "Epoch 44: 100% (batch 196/196)  ==stats==> loss:  0.628, accuracy:  0.794, Time:  0:00:44\n"
     ]
    },
    {
     "name": "stdout",
     "output_type": "stream",
     "text": [
      "Test => Loss: 0.9513, Accuracy: 70.33% (7033/10000)\n"
     ]
    },
    {
     "name": "stderr",
     "output_type": "stream",
     "text": [
      "Epoch 45: 100% (batch 196/196)  ==stats==> loss:  0.628, accuracy:  0.793, Time:  0:00:44\n"
     ]
    },
    {
     "name": "stdout",
     "output_type": "stream",
     "text": [
      "Test => Loss: 0.9612, Accuracy: 70.50% (7050/10000)\n"
     ]
    },
    {
     "name": "stderr",
     "output_type": "stream",
     "text": [
      "Epoch 46: 100% (batch 196/196)  ==stats==> loss:  0.617, accuracy:  0.797, Time:  0:00:44\n"
     ]
    },
    {
     "name": "stdout",
     "output_type": "stream",
     "text": [
      "Test => Loss: 0.9514, Accuracy: 70.63% (7063/10000)\n"
     ]
    },
    {
     "name": "stderr",
     "output_type": "stream",
     "text": [
      "Epoch 47: 100% (batch 196/196)  ==stats==> loss:  0.613, accuracy:  0.797, Time:  0:00:44\n"
     ]
    },
    {
     "name": "stdout",
     "output_type": "stream",
     "text": [
      "Test => Loss: 0.9837, Accuracy: 69.11% (6911/10000)\n"
     ]
    },
    {
     "name": "stderr",
     "output_type": "stream",
     "text": [
      "Epoch 48: 100% (batch 196/196)  ==stats==> loss:  0.604, accuracy:    0.8, Time:  0:00:44\n"
     ]
    },
    {
     "name": "stdout",
     "output_type": "stream",
     "text": [
      "Test => Loss: 0.9611, Accuracy: 70.47% (7047/10000)\n"
     ]
    },
    {
     "name": "stderr",
     "output_type": "stream",
     "text": [
      "Epoch 49: 100% (batch 196/196)  ==stats==> loss:  0.597, accuracy:  0.802, Time:  0:00:44\n"
     ]
    },
    {
     "name": "stdout",
     "output_type": "stream",
     "text": [
      "Test => Loss: 0.9630, Accuracy: 70.07% (7007/10000)\n"
     ]
    },
    {
     "name": "stderr",
     "output_type": "stream",
     "text": [
      "Epoch 50: 100% (batch 196/196)  ==stats==> loss:  0.602, accuracy:    0.8, Time:  0:00:44\n"
     ]
    },
    {
     "name": "stdout",
     "output_type": "stream",
     "text": [
      "Test => Loss: 0.9491, Accuracy: 69.89% (6989/10000)\n"
     ]
    },
    {
     "name": "stderr",
     "output_type": "stream",
     "text": [
      "Epoch 51: 100% (batch 196/196)  ==stats==> loss:  0.587, accuracy:  0.805, Time:  0:00:44\n"
     ]
    },
    {
     "name": "stdout",
     "output_type": "stream",
     "text": [
      "Test => Loss: 1.0054, Accuracy: 69.86% (6986/10000)\n"
     ]
    },
    {
     "name": "stderr",
     "output_type": "stream",
     "text": [
      "Epoch 52: 100% (batch 196/196)  ==stats==> loss:  0.583, accuracy:  0.808, Time:  0:00:44\n"
     ]
    },
    {
     "name": "stdout",
     "output_type": "stream",
     "text": [
      "Test => Loss: 1.0059, Accuracy: 69.38% (6938/10000)\n"
     ]
    },
    {
     "name": "stderr",
     "output_type": "stream",
     "text": [
      "Epoch 53: 100% (batch 196/196)  ==stats==> loss:  0.584, accuracy:  0.806, Time:  0:00:44\n"
     ]
    },
    {
     "name": "stdout",
     "output_type": "stream",
     "text": [
      "Test => Loss: 0.9821, Accuracy: 70.68% (7068/10000)\n"
     ]
    },
    {
     "name": "stderr",
     "output_type": "stream",
     "text": [
      "Epoch 54: 100% (batch 196/196)  ==stats==> loss:  0.581, accuracy:  0.808, Time:  0:00:44\n"
     ]
    },
    {
     "name": "stdout",
     "output_type": "stream",
     "text": [
      "Test => Loss: 0.9800, Accuracy: 70.86% (7086/10000)\n"
     ]
    },
    {
     "name": "stderr",
     "output_type": "stream",
     "text": [
      "Epoch 55: 100% (batch 196/196)  ==stats==> loss:  0.583, accuracy:  0.807, Time:  0:00:44\n"
     ]
    },
    {
     "name": "stdout",
     "output_type": "stream",
     "text": [
      "Test => Loss: 1.0059, Accuracy: 69.87% (6987/10000)\n"
     ]
    },
    {
     "name": "stderr",
     "output_type": "stream",
     "text": [
      "Epoch 56: 100% (batch 196/196)  ==stats==> loss:   0.57, accuracy:  0.809, Time:  0:00:44\n"
     ]
    },
    {
     "name": "stdout",
     "output_type": "stream",
     "text": [
      "Test => Loss: 0.9703, Accuracy: 70.74% (7074/10000)\n"
     ]
    },
    {
     "name": "stderr",
     "output_type": "stream",
     "text": [
      "Epoch 57: 100% (batch 196/196)  ==stats==> loss:  0.571, accuracy:  0.811, Time:  0:00:44\n"
     ]
    },
    {
     "name": "stdout",
     "output_type": "stream",
     "text": [
      "Test => Loss: 0.9398, Accuracy: 70.67% (7067/10000)\n"
     ]
    },
    {
     "name": "stderr",
     "output_type": "stream",
     "text": [
      "Epoch 58: 100% (batch 196/196)  ==stats==> loss:   0.56, accuracy:  0.813, Time:  0:00:44\n"
     ]
    },
    {
     "name": "stdout",
     "output_type": "stream",
     "text": [
      "Test => Loss: 0.9590, Accuracy: 70.65% (7065/10000)\n"
     ]
    },
    {
     "name": "stderr",
     "output_type": "stream",
     "text": [
      "Epoch 59: 100% (batch 196/196)  ==stats==> loss:  0.557, accuracy:  0.814, Time:  0:00:44\n"
     ]
    },
    {
     "name": "stdout",
     "output_type": "stream",
     "text": [
      "Test => Loss: 0.9502, Accuracy: 70.78% (7078/10000)\n"
     ]
    },
    {
     "name": "stderr",
     "output_type": "stream",
     "text": [
      "Epoch 60: 100% (batch 196/196)  ==stats==> loss:   0.55, accuracy:  0.817, Time:  0:00:44\n"
     ]
    },
    {
     "name": "stdout",
     "output_type": "stream",
     "text": [
      "Test => Loss: 1.0031, Accuracy: 71.53% (7153/10000)\n"
     ]
    },
    {
     "name": "stderr",
     "output_type": "stream",
     "text": [
      "Epoch 61: 100% (batch 196/196)  ==stats==> loss:  0.553, accuracy:  0.816, Time:  0:00:44\n"
     ]
    },
    {
     "name": "stdout",
     "output_type": "stream",
     "text": [
      "Test => Loss: 0.9937, Accuracy: 70.48% (7048/10000)\n"
     ]
    },
    {
     "name": "stderr",
     "output_type": "stream",
     "text": [
      "Epoch 62: 100% (batch 196/196)  ==stats==> loss:  0.541, accuracy:  0.819, Time:  0:00:44\n"
     ]
    },
    {
     "name": "stdout",
     "output_type": "stream",
     "text": [
      "Test => Loss: 1.0233, Accuracy: 71.09% (7109/10000)\n"
     ]
    },
    {
     "name": "stderr",
     "output_type": "stream",
     "text": [
      "Epoch 63: 100% (batch 196/196)  ==stats==> loss:  0.543, accuracy:  0.818, Time:  0:00:44\n"
     ]
    },
    {
     "name": "stdout",
     "output_type": "stream",
     "text": [
      "Test => Loss: 0.9905, Accuracy: 71.02% (7102/10000)\n"
     ]
    },
    {
     "name": "stderr",
     "output_type": "stream",
     "text": [
      "Epoch 64: 100% (batch 196/196)  ==stats==> loss:  0.544, accuracy:  0.818, Time:  0:00:44\n"
     ]
    },
    {
     "name": "stdout",
     "output_type": "stream",
     "text": [
      "Test => Loss: 1.0180, Accuracy: 70.73% (7073/10000)\n"
     ]
    },
    {
     "name": "stderr",
     "output_type": "stream",
     "text": [
      "Epoch 65: 100% (batch 196/196)  ==stats==> loss:  0.539, accuracy:  0.818, Time:  0:00:44\n"
     ]
    },
    {
     "name": "stdout",
     "output_type": "stream",
     "text": [
      "Test => Loss: 0.9785, Accuracy: 70.88% (7088/10000)\n"
     ]
    },
    {
     "name": "stderr",
     "output_type": "stream",
     "text": [
      "Epoch 66: 100% (batch 196/196)  ==stats==> loss:  0.538, accuracy:   0.82, Time:  0:00:44\n"
     ]
    },
    {
     "name": "stdout",
     "output_type": "stream",
     "text": [
      "Test => Loss: 0.9901, Accuracy: 70.87% (7087/10000)\n"
     ]
    },
    {
     "name": "stderr",
     "output_type": "stream",
     "text": [
      "Epoch 67: 100% (batch 196/196)  ==stats==> loss:  0.523, accuracy:  0.823, Time:  0:00:44\n"
     ]
    },
    {
     "name": "stdout",
     "output_type": "stream",
     "text": [
      "Test => Loss: 0.9771, Accuracy: 71.09% (7109/10000)\n"
     ]
    },
    {
     "name": "stderr",
     "output_type": "stream",
     "text": [
      "Epoch 68: 100% (batch 196/196)  ==stats==> loss:  0.527, accuracy:  0.823, Time:  0:00:44\n"
     ]
    },
    {
     "name": "stdout",
     "output_type": "stream",
     "text": [
      "Test => Loss: 0.9896, Accuracy: 71.25% (7125/10000)\n"
     ]
    },
    {
     "name": "stderr",
     "output_type": "stream",
     "text": [
      "Epoch 69: 100% (batch 196/196)  ==stats==> loss:  0.522, accuracy:  0.824, Time:  0:00:44\n"
     ]
    },
    {
     "name": "stdout",
     "output_type": "stream",
     "text": [
      "Test => Loss: 1.0142, Accuracy: 70.50% (7050/10000)\n"
     ]
    },
    {
     "name": "stderr",
     "output_type": "stream",
     "text": [
      "Epoch 70: 100% (batch 196/196)  ==stats==> loss:  0.528, accuracy:  0.824, Time:  0:00:44\n"
     ]
    },
    {
     "name": "stdout",
     "output_type": "stream",
     "text": [
      "Test => Loss: 1.0099, Accuracy: 70.40% (7040/10000)\n"
     ]
    },
    {
     "name": "stderr",
     "output_type": "stream",
     "text": [
      "Epoch 71: 100% (batch 196/196)  ==stats==> loss:  0.521, accuracy:  0.824, Time:  0:00:44\n"
     ]
    },
    {
     "name": "stdout",
     "output_type": "stream",
     "text": [
      "Test => Loss: 1.0102, Accuracy: 70.66% (7066/10000)\n"
     ]
    },
    {
     "name": "stderr",
     "output_type": "stream",
     "text": [
      "Epoch 72: 100% (batch 196/196)  ==stats==> loss:  0.513, accuracy:  0.827, Time:  0:00:44\n"
     ]
    },
    {
     "name": "stdout",
     "output_type": "stream",
     "text": [
      "Test => Loss: 0.9856, Accuracy: 71.14% (7114/10000)\n"
     ]
    },
    {
     "name": "stderr",
     "output_type": "stream",
     "text": [
      "Epoch 73: 100% (batch 196/196)  ==stats==> loss:  0.505, accuracy:   0.83, Time:  0:00:44\n"
     ]
    },
    {
     "name": "stdout",
     "output_type": "stream",
     "text": [
      "Test => Loss: 0.9670, Accuracy: 71.33% (7133/10000)\n"
     ]
    },
    {
     "name": "stderr",
     "output_type": "stream",
     "text": [
      "Epoch 74: 100% (batch 196/196)  ==stats==> loss:  0.509, accuracy:  0.828, Time:  0:00:44\n"
     ]
    },
    {
     "name": "stdout",
     "output_type": "stream",
     "text": [
      "Test => Loss: 1.0178, Accuracy: 71.04% (7104/10000)\n"
     ]
    },
    {
     "name": "stderr",
     "output_type": "stream",
     "text": [
      "Epoch 75: 100% (batch 196/196)  ==stats==> loss:  0.513, accuracy:  0.828, Time:  0:00:44\n"
     ]
    },
    {
     "name": "stdout",
     "output_type": "stream",
     "text": [
      "Test => Loss: 1.0111, Accuracy: 70.14% (7014/10000)\n"
     ]
    },
    {
     "name": "stderr",
     "output_type": "stream",
     "text": [
      "Epoch 76: 100% (batch 196/196)  ==stats==> loss:  0.515, accuracy:  0.827, Time:  0:00:44\n"
     ]
    },
    {
     "name": "stdout",
     "output_type": "stream",
     "text": [
      "Test => Loss: 1.0111, Accuracy: 71.94% (7194/10000)\n"
     ]
    },
    {
     "name": "stderr",
     "output_type": "stream",
     "text": [
      "Epoch 77: 100% (batch 196/196)  ==stats==> loss:  0.505, accuracy:  0.831, Time:  0:00:44\n"
     ]
    },
    {
     "name": "stdout",
     "output_type": "stream",
     "text": [
      "Test => Loss: 1.0217, Accuracy: 71.09% (7109/10000)\n"
     ]
    },
    {
     "name": "stderr",
     "output_type": "stream",
     "text": [
      "Epoch 78: 100% (batch 196/196)  ==stats==> loss:  0.491, accuracy:  0.833, Time:  0:00:44\n"
     ]
    },
    {
     "name": "stdout",
     "output_type": "stream",
     "text": [
      "Test => Loss: 0.9746, Accuracy: 71.41% (7141/10000)\n"
     ]
    },
    {
     "name": "stderr",
     "output_type": "stream",
     "text": [
      "Epoch 79: 100% (batch 196/196)  ==stats==> loss:    0.5, accuracy:  0.832, Time:  0:00:44\n"
     ]
    },
    {
     "name": "stdout",
     "output_type": "stream",
     "text": [
      "Test => Loss: 1.0576, Accuracy: 69.96% (6996/10000)\n"
     ]
    },
    {
     "name": "stderr",
     "output_type": "stream",
     "text": [
      "Epoch 80: 100% (batch 196/196)  ==stats==> loss:  0.507, accuracy:  0.829, Time:  0:00:44\n"
     ]
    },
    {
     "name": "stdout",
     "output_type": "stream",
     "text": [
      "Test => Loss: 1.0086, Accuracy: 71.70% (7170/10000)\n"
     ]
    },
    {
     "data": {
      "image/png": "[encoded data removed]",
      "text/plain": [
       "<matplotlib.figure.Figure at 0x7f4c4d8da6a0>"
      ]
     },
     "metadata": {},
     "output_type": "display_data"
    },
    {
     "name": "stdout",
     "output_type": "stream",
     "text": [
      "Testing both models on both datasets...\n"
     ]
    },
    {
     "data": {
      "image/png": "[encoded data removed]",
      "text/plain": [
       "<matplotlib.figure.Figure at 0x7f4c4cf62a58>"
      ]
     },
     "metadata": {},
     "output_type": "display_data"
    },
    {
     "name": "stdout",
     "output_type": "stream",
     "text": [
      "model_rotated_test_dataset score: loss=2.358929, accuracy=0.333700\n",
      "model_rotated_train_dataset score: loss=2.306610, accuracy=0.347200\n",
      "model_test_dataset score: loss=1.790933, accuracy=0.628200\n",
      "model_train_dataset score: loss=0.657878, accuracy=0.792380\n",
      "rotated_model_rotated_test_dataset score: loss=1.011859, accuracy=0.715300\n",
      "rotated_model_rotated_train_dataset score: loss=0.467591, accuracy=0.840980\n",
      "rotated_model_test_dataset score: loss=0.976991, accuracy=0.726300\n",
      "rotated_model_train_dataset score: loss=0.439562, accuracy=0.849220\n"
     ]
    }
   ],
   "source": [
    "import pytorch_experiment\n",
    "batch_size = 256\n",
    "\n",
    "epochs={'cifar10':40,'mnist':20,'fashion_mnist':12,'cluttered_mnist':10,'lsa16':15,'mnist_rot':10,'pugeault':15}\n",
    "\n",
    "rotated_epochs={'cifar10':80,'mnist':45,'fashion_mnist':60,'cluttered_mnist':30,'lsa16':100,'mnist_rot':15,'pugeault':40}\n",
    "\n",
    "config=pytorch_experiment.TrainRotatedConfig(dataset_name=dataset,batch_size=batch_size,\n",
    "                   epochs=epochs[dataset],rotated_epochs=rotated_epochs[dataset],\n",
    "                   pre_rotated_epochs=0, optimizer=optimizer,rotated_optimizer=rotated_optimizer,\n",
    "                  use_cuda=use_cuda)\n",
    "\n",
    "scores=pytorch_experiment.train_rotated(config,model,rotated_model,\n",
    "                                        x_train,y_train,x_test,y_test,plot_accuracy=True)\n",
    "\n",
    "\n",
    "for k,v in scores.items():\n",
    "    print('%s score: loss=%f, accuracy=%f' % (k,v[0],v[1]))\n"
   ]
  },
  {
   "cell_type": "code",
   "execution_count": null,
   "metadata": {
    "scrolled": true
   },
   "outputs": [],
   "source": [
    "from datetime import datetime\n",
    "\n",
    "output_file=\"results/all_gconv.txt\"\n",
    "f= open(output_file,\"a+\")\n",
    "general_message=\"%s\\nResults on dataset %s with model %s and rotated model %s\\n\" % (str(datetime.now()),dataset,model.name,rotated_model.name)\n",
    "f.write(general_message)\n",
    "print(general_message)\n",
    "for k,v in scores.items():\n",
    "    message='%s score: loss=%f, accuracy=%f\\n' % (k,v[0],v[1])\n",
    "    print(message)\n",
    "    f.write(message)\n",
    "f.write(\"\\nConfig:\",str(config))    \n",
    "f.write(\"\\n\\n\")    \n",
    "f.close()"
   ]
  },
  {
   "cell_type": "code",
   "execution_count": null,
   "metadata": {},
   "outputs": [],
   "source": []
  }
 ],
 "metadata": {
  "kernelspec": {
   "display_name": "Python 3",
   "language": "python",
   "name": "python3"
  },
  "language_info": {
   "codemirror_mode": {
    "name": "ipython",
    "version": 3
   },
   "file_extension": ".py",
   "mimetype": "text/x-python",
   "name": "python",
   "nbconvert_exporter": "python",
   "pygments_lexer": "ipython3",
   "version": "3.6.1"
  }
 },
 "nbformat": 4,
 "nbformat_minor": 2
}
