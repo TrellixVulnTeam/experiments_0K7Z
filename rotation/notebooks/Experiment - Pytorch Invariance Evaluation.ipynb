{
 "cells": [
  {
   "cell_type": "code",
   "execution_count": 1,
   "metadata": {},
   "outputs": [],
   "source": [
    "%load_ext autoreload\n",
    "%autoreload 2\n",
    "\n",
    "\n",
    "import matplotlib.pyplot as plt\n",
    "plt.rcParams['image.cmap'] = 'gray'\n"
   ]
  },
  {
   "cell_type": "code",
   "execution_count": 2,
   "metadata": {},
   "outputs": [],
   "source": [
    "import logging\n",
    "logging.getLogger().setLevel(logging.DEBUG)"
   ]
  },
  {
   "cell_type": "code",
   "execution_count": 3,
   "metadata": {},
   "outputs": [
    {
     "name": "stderr",
     "output_type": "stream",
     "text": [
      "Using TensorFlow backend.\n",
      "/home/facundo/.python/lib/python3.6/importlib/_bootstrap.py:205: RuntimeWarning: compiletime version 3.5 of module 'tensorflow.python.framework.fast_tensor_util' does not match runtime version 3.6\n",
      "  return f(*args, **kwds)\n"
     ]
    },
    {
     "name": "stdout",
     "output_type": "stream",
     "text": [
      "x_train shape: (60000, 28, 28, 1) uint8\n",
      "x_test shape: (10000, 28, 28, 1) uint8\n",
      "y_train shape: (60000, 10) float64\n",
      "y_test shape: (10000, 10) float64\n",
      "60000 train samples\n",
      "10000 test samples\n",
      "[0 1 2 3 4 5 6 7 8 9]\n",
      "0.0 1.0\n"
     ]
    }
   ],
   "source": [
    "from torchsummary import summary\n",
    "import torch\n",
    "use_cuda=torch.cuda.is_available()\n",
    "import pytorch\n",
    "from pytorch import dataset as ptd\n",
    "\n",
    "import os\n",
    "import datasets\n",
    "import pytorch_models\n",
    "import torch.optim as optim\n",
    "dataset_name=\"fashion_mnist\"\n",
    "(x_train, y_train), (x_test, y_test), input_shape,num_classes = datasets.get_data(dataset_name)\n",
    "dataset=ptd.ClassificationDataset(dataset_name,x_train,x_test,y_train,y_test,num_classes,input_shape)\n",
    "\n",
    "print('x_train shape:', x_train.shape,x_train.dtype)\n",
    "print('x_test shape:', x_test.shape,x_test.dtype)\n",
    "print('y_train shape:', y_train.shape,y_train.dtype)\n",
    "print('y_test shape:', y_test.shape,y_test.dtype)\n",
    "print(x_train.shape[0], 'train samples')\n",
    "print(x_test.shape[0], 'test samples')\n",
    "\n",
    "\n",
    "import numpy as np\n",
    "print(np.unique(y_train.argmax(axis=1)))\n",
    "print(y_train.min(),y_train.max())\n"
   ]
  },
  {
   "cell_type": "code",
   "execution_count": 4,
   "metadata": {},
   "outputs": [
    {
     "name": "stdout",
     "output_type": "stream",
     "text": [
      "SimpleConv(\n",
      "  (conv): SequentialWithIntermediates(\n",
      "    (0): Conv2d(1, 32, kernel_size=(3, 3), stride=(1, 1), padding=(1, 1))\n",
      "    (1): ReLU()\n",
      "    (2): Conv2d(32, 32, kernel_size=(3, 3), stride=(1, 1), padding=(1, 1))\n",
      "    (3): ReLU()\n",
      "    (4): MaxPool2d(kernel_size=2, stride=2, padding=0, dilation=1, ceil_mode=False)\n",
      "    (5): Conv2d(32, 64, kernel_size=(3, 3), stride=(1, 1), padding=(1, 1))\n",
      "    (6): ReLU()\n",
      "    (7): Conv2d(64, 64, kernel_size=(3, 3), stride=(1, 1), padding=(1, 1))\n",
      "    (8): ReLU()\n",
      "    (9): MaxPool2d(kernel_size=2, stride=2, padding=0, dilation=1, ceil_mode=False)\n",
      "    (10): Conv2d(64, 128, kernel_size=(3, 3), stride=(1, 1), padding=(1, 1))\n",
      "    (11): ReLU()\n",
      "  )\n",
      "  (fc): SequentialWithIntermediates(\n",
      "    (0): Linear(in_features=6272, out_features=64, bias=True)\n",
      "    (1): ReLU()\n",
      "    (2): Linear(in_features=64, out_features=10, bias=True)\n",
      "  )\n",
      ")\n",
      "SimpleConv(\n",
      "  (conv): SequentialWithIntermediates(\n",
      "    (0): Conv2d(1, 32, kernel_size=(3, 3), stride=(1, 1), padding=(1, 1))\n",
      "    (1): ReLU()\n",
      "    (2): Conv2d(32, 32, kernel_size=(3, 3), stride=(1, 1), padding=(1, 1))\n",
      "    (3): ReLU()\n",
      "    (4): MaxPool2d(kernel_size=2, stride=2, padding=0, dilation=1, ceil_mode=False)\n",
      "    (5): Conv2d(32, 64, kernel_size=(3, 3), stride=(1, 1), padding=(1, 1))\n",
      "    (6): ReLU()\n",
      "    (7): Conv2d(64, 64, kernel_size=(3, 3), stride=(1, 1), padding=(1, 1))\n",
      "    (8): ReLU()\n",
      "    (9): MaxPool2d(kernel_size=2, stride=2, padding=0, dilation=1, ceil_mode=False)\n",
      "    (10): Conv2d(64, 128, kernel_size=(3, 3), stride=(1, 1), padding=(1, 1))\n",
      "    (11): ReLU()\n",
      "  )\n",
      "  (fc): SequentialWithIntermediates(\n",
      "    (0): Linear(in_features=6272, out_features=64, bias=True)\n",
      "    (1): ReLU()\n",
      "    (2): Linear(in_features=64, out_features=10, bias=True)\n",
      "  )\n",
      ")\n"
     ]
    }
   ],
   "source": [
    "from pytorch import training\n",
    "\n",
    "import pytorch_models\n",
    "\n",
    "conv_filters={\"mnist\":32,\"mnist_rot\":32,\"cifar10\":64,\"fashion_mnist\":32}\n",
    "fc_filters={\"mnist\":64,\"mnist_rot\":64,\"cifar10\":128,\"fashion_mnist\":64}\n",
    "model = pytorch_models.SimpleConv(input_shape,num_classes,\n",
    "                                 conv_filters=conv_filters[dataset.name],fc_filters=fc_filters[dataset.name])\n",
    "#model= pytorch_models.FFNet(input_shape,num_classes)x\n",
    "if use_cuda:\n",
    "    model=model.cuda()\n",
    "parameters=training.add_weight_decay(model.named_parameters(),1e-9)\n",
    "optimizer = optim.Adam(parameters, lr=0.001)\n",
    "print(model)\n",
    "\n",
    "rotated_model= pytorch_models.SimpleConv(input_shape,num_classes,\n",
    "                                       conv_filters=conv_filters[dataset.name],fc_filters=fc_filters[dataset.name])\n",
    "if use_cuda:\n",
    "    rotated_model= rotated_model.cuda()\n",
    "rotated_parameters=training.add_weight_decay(rotated_model.named_parameters(),1e-9)\n",
    "rotated_optimizer = optim.Adam(rotated_parameters, lr=0.001)\n",
    "\n",
    "print(rotated_model)\n",
    "#summary(model, input_size=[1,28,28])\n"
   ]
  },
  {
   "cell_type": "code",
   "execution_count": 5,
   "metadata": {},
   "outputs": [
    {
     "name": "stdout",
     "output_type": "stream",
     "text": [
      "Training model with unrotated dataset...\n"
     ]
    },
    {
     "name": "stderr",
     "output_type": "stream",
     "text": [
      "Epoch 1: 100% (batch 938/938)  ==stats==> loss:  0.441, accuracy:  0.841, Time:  0:00:11\n"
     ]
    },
    {
     "name": "stdout",
     "output_type": "stream",
     "text": [
      "Test => Loss: 0.3069, Accuracy: 88.37% (8837/10000)\n"
     ]
    },
    {
     "name": "stderr",
     "output_type": "stream",
     "text": [
      "Epoch 2: 100% (batch 938/938)  ==stats==> loss:  0.256, accuracy:  0.907, Time:  0:00:10\n"
     ]
    },
    {
     "name": "stdout",
     "output_type": "stream",
     "text": [
      "Test => Loss: 0.2485, Accuracy: 91.02% (9102/10000)\n"
     ]
    },
    {
     "name": "stderr",
     "output_type": "stream",
     "text": [
      "Epoch 3: 100% (batch 938/938)  ==stats==> loss:  0.211, accuracy:  0.923, Time:  0:00:10\n"
     ]
    },
    {
     "name": "stdout",
     "output_type": "stream",
     "text": [
      "Test => Loss: 0.2326, Accuracy: 91.75% (9175/10000)\n"
     ]
    },
    {
     "name": "stderr",
     "output_type": "stream",
     "text": [
      "Epoch 4: 100% (batch 938/938)  ==stats==> loss:  0.179, accuracy:  0.933, Time:  0:00:11\n"
     ]
    },
    {
     "name": "stdout",
     "output_type": "stream",
     "text": [
      "Test => Loss: 0.2392, Accuracy: 91.39% (9139/10000)\n"
     ]
    },
    {
     "name": "stderr",
     "output_type": "stream",
     "text": [
      "Epoch 5: 100% (batch 938/938)  ==stats==> loss:  0.153, accuracy:  0.943, Time:  0:00:09\n"
     ]
    },
    {
     "name": "stdout",
     "output_type": "stream",
     "text": [
      "Test => Loss: 0.2247, Accuracy: 92.21% (9221/10000)\n"
     ]
    },
    {
     "name": "stderr",
     "output_type": "stream",
     "text": [
      "Epoch 6: 100% (batch 938/938)  ==stats==> loss:  0.129, accuracy:  0.951, Time:  0:00:09\n"
     ]
    },
    {
     "name": "stdout",
     "output_type": "stream",
     "text": [
      "Test => Loss: 0.2267, Accuracy: 91.97% (9197/10000)\n"
     ]
    },
    {
     "name": "stderr",
     "output_type": "stream",
     "text": [
      "Epoch 7: 100% (batch 938/938)  ==stats==> loss:  0.107, accuracy:   0.96, Time:  0:00:09\n"
     ]
    },
    {
     "name": "stdout",
     "output_type": "stream",
     "text": [
      "Test => Loss: 0.2444, Accuracy: 92.52% (9252/10000)\n"
     ]
    },
    {
     "name": "stderr",
     "output_type": "stream",
     "text": [
      "Epoch 8: 100% (batch 938/938)  ==stats==> loss: 0.0927, accuracy:  0.965, Time:  0:00:09\n"
     ]
    },
    {
     "name": "stdout",
     "output_type": "stream",
     "text": [
      "Test => Loss: 0.2755, Accuracy: 92.17% (9217/10000)\n"
     ]
    },
    {
     "name": "stderr",
     "output_type": "stream",
     "text": [
      "Epoch 9: 100% (batch 938/938)  ==stats==> loss: 0.0762, accuracy:  0.971, Time:  0:00:09\n"
     ]
    },
    {
     "name": "stdout",
     "output_type": "stream",
     "text": [
      "Test => Loss: 0.2723, Accuracy: 92.09% (9209/10000)\n"
     ]
    },
    {
     "name": "stderr",
     "output_type": "stream",
     "text": [
      "Epoch 10: 100% (batch 938/938)  ==stats==> loss:  0.065, accuracy:  0.976, Time:  0:00:09\n"
     ]
    },
    {
     "name": "stdout",
     "output_type": "stream",
     "text": [
      "Test => Loss: 0.3144, Accuracy: 92.59% (9259/10000)\n"
     ]
    },
    {
     "name": "stderr",
     "output_type": "stream",
     "text": [
      "Epoch 11: 100% (batch 938/938)  ==stats==> loss: 0.0543, accuracy:   0.98, Time:  0:00:09\n"
     ]
    },
    {
     "name": "stdout",
     "output_type": "stream",
     "text": [
      "Test => Loss: 0.3279, Accuracy: 92.43% (9243/10000)\n"
     ]
    },
    {
     "name": "stderr",
     "output_type": "stream",
     "text": [
      "Epoch 12: 100% (batch 938/938)  ==stats==> loss: 0.0507, accuracy:  0.981, Time:  0:00:09\n"
     ]
    },
    {
     "name": "stdout",
     "output_type": "stream",
     "text": [
      "Test => Loss: 0.3716, Accuracy: 92.44% (9244/10000)\n"
     ]
    },
    {
     "data": {
      "image/png": "[encoded data removed]",
      "text/plain": [
       "<matplotlib.figure.Figure at 0x7f526568bc50>"
      ]
     },
     "metadata": {},
     "output_type": "display_data"
    },
    {
     "name": "stdout",
     "output_type": "stream",
     "text": [
      "Skipping pretraining rotated model with unrotated dataset\n",
      "Training rotated model with rotated dataset...\n"
     ]
    },
    {
     "name": "stderr",
     "output_type": "stream",
     "text": [
      "Epoch 1: 100% (batch 938/938)  ==stats==> loss:   1.07, accuracy:  0.598, Time:  0:00:08\n"
     ]
    },
    {
     "name": "stdout",
     "output_type": "stream",
     "text": [
      "Test => Loss: 0.7943, Accuracy: 70.09% (7009/10000)\n"
     ]
    },
    {
     "name": "stderr",
     "output_type": "stream",
     "text": [
      "Epoch 2: 100% (batch 938/938)  ==stats==> loss:  0.691, accuracy:  0.743, Time:  0:00:08\n"
     ]
    },
    {
     "name": "stdout",
     "output_type": "stream",
     "text": [
      "Test => Loss: 0.6712, Accuracy: 74.81% (7481/10000)\n"
     ]
    },
    {
     "name": "stderr",
     "output_type": "stream",
     "text": [
      "Epoch 3: 100% (batch 938/938)  ==stats==> loss:   0.58, accuracy:   0.79, Time:  0:00:08\n"
     ]
    },
    {
     "name": "stdout",
     "output_type": "stream",
     "text": [
      "Test => Loss: 0.5536, Accuracy: 80.16% (8016/10000)\n"
     ]
    },
    {
     "name": "stderr",
     "output_type": "stream",
     "text": [
      "Epoch 4: 100% (batch 938/938)  ==stats==> loss:  0.514, accuracy:  0.814, Time:  0:00:08\n"
     ]
    },
    {
     "name": "stdout",
     "output_type": "stream",
     "text": [
      "Test => Loss: 0.5135, Accuracy: 81.36% (8136/10000)\n"
     ]
    },
    {
     "name": "stderr",
     "output_type": "stream",
     "text": [
      "Epoch 5: 100% (batch 938/938)  ==stats==> loss:  0.475, accuracy:  0.828, Time:  0:00:08\n"
     ]
    },
    {
     "name": "stdout",
     "output_type": "stream",
     "text": [
      "Test => Loss: 0.4634, Accuracy: 83.36% (8336/10000)\n"
     ]
    },
    {
     "name": "stderr",
     "output_type": "stream",
     "text": [
      "Epoch 6: 100% (batch 938/938)  ==stats==> loss:  0.446, accuracy:  0.839, Time:  0:00:08\n"
     ]
    },
    {
     "name": "stdout",
     "output_type": "stream",
     "text": [
      "Test => Loss: 0.4586, Accuracy: 83.47% (8347/10000)\n"
     ]
    },
    {
     "name": "stderr",
     "output_type": "stream",
     "text": [
      "Epoch 7: 100% (batch 938/938)  ==stats==> loss:  0.424, accuracy:  0.846, Time:  0:00:08\n"
     ]
    },
    {
     "name": "stdout",
     "output_type": "stream",
     "text": [
      "Test => Loss: 0.4523, Accuracy: 83.70% (8370/10000)\n"
     ]
    },
    {
     "name": "stderr",
     "output_type": "stream",
     "text": [
      "Epoch 8: 100% (batch 938/938)  ==stats==> loss:   0.41, accuracy:  0.852, Time:  0:00:08\n"
     ]
    },
    {
     "name": "stdout",
     "output_type": "stream",
     "text": [
      "Test => Loss: 0.4273, Accuracy: 84.78% (8478/10000)\n"
     ]
    },
    {
     "name": "stderr",
     "output_type": "stream",
     "text": [
      "Epoch 9: 100% (batch 938/938)  ==stats==> loss:    0.4, accuracy:  0.855, Time:  0:00:08\n"
     ]
    },
    {
     "name": "stdout",
     "output_type": "stream",
     "text": [
      "Test => Loss: 0.4083, Accuracy: 85.38% (8538/10000)\n"
     ]
    },
    {
     "name": "stderr",
     "output_type": "stream",
     "text": [
      "Epoch 10: 100% (batch 938/938)  ==stats==> loss:  0.388, accuracy:  0.861, Time:  0:00:08\n"
     ]
    },
    {
     "name": "stdout",
     "output_type": "stream",
     "text": [
      "Test => Loss: 0.4011, Accuracy: 85.51% (8551/10000)\n"
     ]
    },
    {
     "name": "stderr",
     "output_type": "stream",
     "text": [
      "Epoch 11: 100% (batch 938/938)  ==stats==> loss:  0.378, accuracy:  0.863, Time:  0:00:08\n"
     ]
    },
    {
     "name": "stdout",
     "output_type": "stream",
     "text": [
      "Test => Loss: 0.4070, Accuracy: 85.31% (8531/10000)\n"
     ]
    },
    {
     "name": "stderr",
     "output_type": "stream",
     "text": [
      "Epoch 12: 100% (batch 938/938)  ==stats==> loss:  0.373, accuracy:  0.865, Time:  0:00:08\n"
     ]
    },
    {
     "name": "stdout",
     "output_type": "stream",
     "text": [
      "Test => Loss: 0.4114, Accuracy: 85.91% (8591/10000)\n"
     ]
    },
    {
     "name": "stderr",
     "output_type": "stream",
     "text": [
      "Epoch 13: 100% (batch 938/938)  ==stats==> loss:  0.362, accuracy:  0.869, Time:  0:00:08\n"
     ]
    },
    {
     "name": "stdout",
     "output_type": "stream",
     "text": [
      "Test => Loss: 0.4102, Accuracy: 85.10% (8510/10000)\n"
     ]
    },
    {
     "name": "stderr",
     "output_type": "stream",
     "text": [
      "Epoch 14: 100% (batch 938/938)  ==stats==> loss:  0.354, accuracy:  0.872, Time:  0:00:08\n"
     ]
    },
    {
     "name": "stdout",
     "output_type": "stream",
     "text": [
      "Test => Loss: 0.3896, Accuracy: 86.14% (8614/10000)\n"
     ]
    },
    {
     "name": "stderr",
     "output_type": "stream",
     "text": [
      "Epoch 15: 100% (batch 938/938)  ==stats==> loss:  0.352, accuracy:  0.872, Time:  0:00:08\n"
     ]
    },
    {
     "name": "stdout",
     "output_type": "stream",
     "text": [
      "Test => Loss: 0.3658, Accuracy: 87.08% (8708/10000)\n"
     ]
    },
    {
     "name": "stderr",
     "output_type": "stream",
     "text": [
      "Epoch 16: 100% (batch 938/938)  ==stats==> loss:  0.345, accuracy:  0.874, Time:  0:00:08\n"
     ]
    },
    {
     "name": "stdout",
     "output_type": "stream",
     "text": [
      "Test => Loss: 0.3741, Accuracy: 86.60% (8660/10000)\n"
     ]
    },
    {
     "name": "stderr",
     "output_type": "stream",
     "text": [
      "Epoch 17: 100% (batch 938/938)  ==stats==> loss:  0.341, accuracy:  0.876, Time:  0:00:08\n"
     ]
    },
    {
     "name": "stdout",
     "output_type": "stream",
     "text": [
      "Test => Loss: 0.3703, Accuracy: 87.08% (8708/10000)\n"
     ]
    },
    {
     "name": "stderr",
     "output_type": "stream",
     "text": [
      "Epoch 18: 100% (batch 938/938)  ==stats==> loss:   0.34, accuracy:  0.878, Time:  0:00:08\n"
     ]
    },
    {
     "name": "stdout",
     "output_type": "stream",
     "text": [
      "Test => Loss: 0.3734, Accuracy: 87.05% (8705/10000)\n"
     ]
    },
    {
     "name": "stderr",
     "output_type": "stream",
     "text": [
      "Epoch 19: 100% (batch 938/938)  ==stats==> loss:  0.336, accuracy:   0.88, Time:  0:00:08\n"
     ]
    },
    {
     "name": "stdout",
     "output_type": "stream",
     "text": [
      "Test => Loss: 0.3731, Accuracy: 86.91% (8691/10000)\n"
     ]
    },
    {
     "name": "stderr",
     "output_type": "stream",
     "text": [
      "Epoch 20: 100% (batch 938/938)  ==stats==> loss:  0.329, accuracy:  0.881, Time:  0:00:08\n"
     ]
    },
    {
     "name": "stdout",
     "output_type": "stream",
     "text": [
      "Test => Loss: 0.3564, Accuracy: 87.29% (8729/10000)\n"
     ]
    },
    {
     "name": "stderr",
     "output_type": "stream",
     "text": [
      "Epoch 21: 100% (batch 938/938)  ==stats==> loss:  0.325, accuracy:  0.883, Time:  0:00:08\n"
     ]
    },
    {
     "name": "stdout",
     "output_type": "stream",
     "text": [
      "Test => Loss: 0.3572, Accuracy: 87.43% (8743/10000)\n"
     ]
    },
    {
     "name": "stderr",
     "output_type": "stream",
     "text": [
      "Epoch 22: 100% (batch 938/938)  ==stats==> loss:  0.322, accuracy:  0.884, Time:  0:00:08\n"
     ]
    },
    {
     "name": "stdout",
     "output_type": "stream",
     "text": [
      "Test => Loss: 0.3716, Accuracy: 86.50% (8650/10000)\n"
     ]
    },
    {
     "name": "stderr",
     "output_type": "stream",
     "text": [
      "Epoch 23: 100% (batch 938/938)  ==stats==> loss:   0.32, accuracy:  0.884, Time:  0:00:08\n"
     ]
    },
    {
     "name": "stdout",
     "output_type": "stream",
     "text": [
      "Test => Loss: 0.3527, Accuracy: 87.99% (8799/10000)\n"
     ]
    },
    {
     "name": "stderr",
     "output_type": "stream",
     "text": [
      "Epoch 24: 100% (batch 938/938)  ==stats==> loss:  0.319, accuracy:  0.886, Time:  0:00:08\n"
     ]
    },
    {
     "name": "stdout",
     "output_type": "stream",
     "text": [
      "Test => Loss: 0.3583, Accuracy: 87.20% (8720/10000)\n"
     ]
    },
    {
     "name": "stderr",
     "output_type": "stream",
     "text": [
      "Epoch 25: 100% (batch 938/938)  ==stats==> loss:  0.313, accuracy:  0.886, Time:  0:00:08\n"
     ]
    },
    {
     "name": "stdout",
     "output_type": "stream",
     "text": [
      "Test => Loss: 0.3491, Accuracy: 87.64% (8764/10000)\n"
     ]
    },
    {
     "name": "stderr",
     "output_type": "stream",
     "text": [
      "Epoch 26: 100% (batch 938/938)  ==stats==> loss:  0.311, accuracy:  0.888, Time:  0:00:08\n"
     ]
    },
    {
     "name": "stdout",
     "output_type": "stream",
     "text": [
      "Test => Loss: 0.3556, Accuracy: 87.16% (8716/10000)\n"
     ]
    },
    {
     "name": "stderr",
     "output_type": "stream",
     "text": [
      "Epoch 27: 100% (batch 938/938)  ==stats==> loss:  0.308, accuracy:  0.887, Time:  0:00:08\n"
     ]
    },
    {
     "name": "stdout",
     "output_type": "stream",
     "text": [
      "Test => Loss: 0.3557, Accuracy: 87.10% (8710/10000)\n"
     ]
    },
    {
     "name": "stderr",
     "output_type": "stream",
     "text": [
      "Epoch 28: 100% (batch 938/938)  ==stats==> loss:  0.307, accuracy:   0.89, Time:  0:00:08\n"
     ]
    },
    {
     "name": "stdout",
     "output_type": "stream",
     "text": [
      "Test => Loss: 0.3473, Accuracy: 87.40% (8740/10000)\n"
     ]
    },
    {
     "name": "stderr",
     "output_type": "stream",
     "text": [
      "Epoch 29: 100% (batch 938/938)  ==stats==> loss:  0.308, accuracy:  0.888, Time:  0:00:08\n"
     ]
    },
    {
     "name": "stdout",
     "output_type": "stream",
     "text": [
      "Test => Loss: 0.3608, Accuracy: 87.56% (8756/10000)\n"
     ]
    },
    {
     "name": "stderr",
     "output_type": "stream",
     "text": [
      "Epoch 30: 100% (batch 938/938)  ==stats==> loss:  0.305, accuracy:  0.889, Time:  0:00:08\n"
     ]
    },
    {
     "name": "stdout",
     "output_type": "stream",
     "text": [
      "Test => Loss: 0.3566, Accuracy: 87.24% (8724/10000)\n"
     ]
    },
    {
     "name": "stderr",
     "output_type": "stream",
     "text": [
      "Epoch 31: 100% (batch 938/938)  ==stats==> loss:  0.298, accuracy:  0.893, Time:  0:00:08\n"
     ]
    },
    {
     "name": "stdout",
     "output_type": "stream",
     "text": [
      "Test => Loss: 0.3412, Accuracy: 87.54% (8754/10000)\n"
     ]
    },
    {
     "name": "stderr",
     "output_type": "stream",
     "text": [
      "Epoch 32: 100% (batch 938/938)  ==stats==> loss:  0.301, accuracy:   0.89, Time:  0:00:08\n"
     ]
    },
    {
     "name": "stdout",
     "output_type": "stream",
     "text": [
      "Test => Loss: 0.3407, Accuracy: 87.88% (8788/10000)\n"
     ]
    },
    {
     "name": "stderr",
     "output_type": "stream",
     "text": [
      "Epoch 33: 100% (batch 938/938)  ==stats==> loss:  0.302, accuracy:  0.891, Time:  0:00:08\n"
     ]
    },
    {
     "name": "stdout",
     "output_type": "stream",
     "text": [
      "Test => Loss: 0.3399, Accuracy: 88.09% (8809/10000)\n"
     ]
    },
    {
     "name": "stderr",
     "output_type": "stream",
     "text": [
      "Epoch 34: 100% (batch 938/938)  ==stats==> loss:  0.296, accuracy:  0.892, Time:  0:00:08\n"
     ]
    },
    {
     "name": "stdout",
     "output_type": "stream",
     "text": [
      "Test => Loss: 0.3303, Accuracy: 88.22% (8822/10000)\n"
     ]
    },
    {
     "name": "stderr",
     "output_type": "stream",
     "text": [
      "Epoch 35: 100% (batch 938/938)  ==stats==> loss:  0.294, accuracy:  0.893, Time:  0:00:08\n"
     ]
    },
    {
     "name": "stdout",
     "output_type": "stream",
     "text": [
      "Test => Loss: 0.3556, Accuracy: 87.64% (8764/10000)\n"
     ]
    },
    {
     "name": "stderr",
     "output_type": "stream",
     "text": [
      "Epoch 36: 100% (batch 938/938)  ==stats==> loss:  0.293, accuracy:  0.893, Time:  0:00:08\n"
     ]
    },
    {
     "name": "stdout",
     "output_type": "stream",
     "text": [
      "Test => Loss: 0.3433, Accuracy: 87.51% (8751/10000)\n"
     ]
    },
    {
     "name": "stderr",
     "output_type": "stream",
     "text": [
      "Epoch 37: 100% (batch 938/938)  ==stats==> loss:  0.293, accuracy:  0.895, Time:  0:00:08\n"
     ]
    },
    {
     "name": "stdout",
     "output_type": "stream",
     "text": [
      "Test => Loss: 0.3419, Accuracy: 87.87% (8787/10000)\n"
     ]
    },
    {
     "name": "stderr",
     "output_type": "stream",
     "text": [
      "Epoch 38: 100% (batch 938/938)  ==stats==> loss:   0.29, accuracy:  0.894, Time:  0:00:08\n"
     ]
    },
    {
     "name": "stdout",
     "output_type": "stream",
     "text": [
      "Test => Loss: 0.3363, Accuracy: 87.96% (8796/10000)\n"
     ]
    },
    {
     "name": "stderr",
     "output_type": "stream",
     "text": [
      "Epoch 39: 100% (batch 938/938)  ==stats==> loss:  0.287, accuracy:  0.895, Time:  0:00:08\n"
     ]
    },
    {
     "name": "stdout",
     "output_type": "stream",
     "text": [
      "Test => Loss: 0.3407, Accuracy: 88.00% (8800/10000)\n"
     ]
    },
    {
     "name": "stderr",
     "output_type": "stream",
     "text": [
      "Epoch 40: 100% (batch 938/938)  ==stats==> loss:  0.289, accuracy:  0.895, Time:  0:00:08\n"
     ]
    },
    {
     "name": "stdout",
     "output_type": "stream",
     "text": [
      "Test => Loss: 0.3341, Accuracy: 88.26% (8826/10000)\n"
     ]
    },
    {
     "name": "stderr",
     "output_type": "stream",
     "text": [
      "Epoch 41: 100% (batch 938/938)  ==stats==> loss:  0.287, accuracy:  0.895, Time:  0:00:08\n"
     ]
    },
    {
     "name": "stdout",
     "output_type": "stream",
     "text": [
      "Test => Loss: 0.3362, Accuracy: 87.96% (8796/10000)\n"
     ]
    },
    {
     "name": "stderr",
     "output_type": "stream",
     "text": [
      "Epoch 42: 100% (batch 938/938)  ==stats==> loss:  0.286, accuracy:  0.897, Time:  0:00:08\n"
     ]
    },
    {
     "name": "stdout",
     "output_type": "stream",
     "text": [
      "Test => Loss: 0.3326, Accuracy: 88.32% (8832/10000)\n"
     ]
    },
    {
     "name": "stderr",
     "output_type": "stream",
     "text": [
      "Epoch 43: 100% (batch 938/938)  ==stats==> loss:  0.281, accuracy:  0.898, Time:  0:00:08\n"
     ]
    },
    {
     "name": "stdout",
     "output_type": "stream",
     "text": [
      "Test => Loss: 0.3310, Accuracy: 88.42% (8842/10000)\n"
     ]
    },
    {
     "name": "stderr",
     "output_type": "stream",
     "text": [
      "Epoch 44: 100% (batch 938/938)  ==stats==> loss:  0.283, accuracy:  0.897, Time:  0:00:08\n"
     ]
    },
    {
     "name": "stdout",
     "output_type": "stream",
     "text": [
      "Test => Loss: 0.3327, Accuracy: 88.32% (8832/10000)\n"
     ]
    },
    {
     "name": "stderr",
     "output_type": "stream",
     "text": [
      "Epoch 45: 100% (batch 938/938)  ==stats==> loss:  0.285, accuracy:  0.896, Time:  0:00:08\n"
     ]
    },
    {
     "name": "stdout",
     "output_type": "stream",
     "text": [
      "Test => Loss: 0.3256, Accuracy: 88.48% (8848/10000)\n"
     ]
    },
    {
     "name": "stderr",
     "output_type": "stream",
     "text": [
      "Epoch 46: 100% (batch 938/938)  ==stats==> loss:  0.281, accuracy:  0.898, Time:  0:00:08\n"
     ]
    },
    {
     "name": "stdout",
     "output_type": "stream",
     "text": [
      "Test => Loss: 0.3336, Accuracy: 88.22% (8822/10000)\n"
     ]
    },
    {
     "name": "stderr",
     "output_type": "stream",
     "text": [
      "Epoch 47: 100% (batch 938/938)  ==stats==> loss:  0.282, accuracy:  0.898, Time:  0:00:08\n"
     ]
    },
    {
     "name": "stdout",
     "output_type": "stream",
     "text": [
      "Test => Loss: 0.3298, Accuracy: 88.55% (8855/10000)\n"
     ]
    },
    {
     "name": "stderr",
     "output_type": "stream",
     "text": [
      "Epoch 48: 100% (batch 938/938)  ==stats==> loss:  0.278, accuracy:  0.899, Time:  0:00:08\n"
     ]
    },
    {
     "name": "stdout",
     "output_type": "stream",
     "text": [
      "Test => Loss: 0.3245, Accuracy: 88.13% (8813/10000)\n"
     ]
    },
    {
     "name": "stderr",
     "output_type": "stream",
     "text": [
      "Epoch 49: 100% (batch 938/938)  ==stats==> loss:  0.278, accuracy:    0.9, Time:  0:00:08\n"
     ]
    },
    {
     "name": "stdout",
     "output_type": "stream",
     "text": [
      "Test => Loss: 0.3289, Accuracy: 88.26% (8826/10000)\n"
     ]
    },
    {
     "name": "stderr",
     "output_type": "stream",
     "text": [
      "Epoch 50: 100% (batch 938/938)  ==stats==> loss:   0.28, accuracy:  0.898, Time:  0:00:08\n"
     ]
    },
    {
     "name": "stdout",
     "output_type": "stream",
     "text": [
      "Test => Loss: 0.3204, Accuracy: 88.57% (8857/10000)\n"
     ]
    },
    {
     "name": "stderr",
     "output_type": "stream",
     "text": [
      "Epoch 51: 100% (batch 938/938)  ==stats==> loss:  0.278, accuracy:  0.898, Time:  0:00:08\n"
     ]
    },
    {
     "name": "stdout",
     "output_type": "stream",
     "text": [
      "Test => Loss: 0.3208, Accuracy: 88.35% (8835/10000)\n"
     ]
    },
    {
     "name": "stderr",
     "output_type": "stream",
     "text": [
      "Epoch 52: 100% (batch 938/938)  ==stats==> loss:  0.273, accuracy:    0.9, Time:  0:00:08\n"
     ]
    },
    {
     "name": "stdout",
     "output_type": "stream",
     "text": [
      "Test => Loss: 0.3167, Accuracy: 88.71% (8871/10000)\n"
     ]
    },
    {
     "name": "stderr",
     "output_type": "stream",
     "text": [
      "Epoch 53: 100% (batch 938/938)  ==stats==> loss:  0.273, accuracy:  0.901, Time:  0:00:08\n"
     ]
    },
    {
     "name": "stdout",
     "output_type": "stream",
     "text": [
      "Test => Loss: 0.3313, Accuracy: 88.46% (8846/10000)\n"
     ]
    },
    {
     "name": "stderr",
     "output_type": "stream",
     "text": [
      "Epoch 54: 100% (batch 938/938)  ==stats==> loss:  0.277, accuracy:    0.9, Time:  0:00:08\n"
     ]
    },
    {
     "name": "stdout",
     "output_type": "stream",
     "text": [
      "Test => Loss: 0.3277, Accuracy: 88.88% (8888/10000)\n"
     ]
    },
    {
     "name": "stderr",
     "output_type": "stream",
     "text": [
      "Epoch 55: 100% (batch 938/938)  ==stats==> loss:  0.275, accuracy:    0.9, Time:  0:00:08\n"
     ]
    },
    {
     "name": "stdout",
     "output_type": "stream",
     "text": [
      "Test => Loss: 0.3193, Accuracy: 88.82% (8882/10000)\n"
     ]
    },
    {
     "name": "stderr",
     "output_type": "stream",
     "text": [
      "Epoch 56: 100% (batch 938/938)  ==stats==> loss:  0.273, accuracy:    0.9, Time:  0:00:08\n"
     ]
    },
    {
     "name": "stdout",
     "output_type": "stream",
     "text": [
      "Test => Loss: 0.3368, Accuracy: 88.22% (8822/10000)\n"
     ]
    },
    {
     "name": "stderr",
     "output_type": "stream",
     "text": [
      "Epoch 57: 100% (batch 938/938)  ==stats==> loss:  0.274, accuracy:  0.902, Time:  0:00:08\n"
     ]
    },
    {
     "name": "stdout",
     "output_type": "stream",
     "text": [
      "Test => Loss: 0.3266, Accuracy: 88.49% (8849/10000)\n"
     ]
    },
    {
     "name": "stderr",
     "output_type": "stream",
     "text": [
      "Epoch 58: 100% (batch 938/938)  ==stats==> loss:  0.273, accuracy:    0.9, Time:  0:00:08\n"
     ]
    },
    {
     "name": "stdout",
     "output_type": "stream",
     "text": [
      "Test => Loss: 0.3162, Accuracy: 88.83% (8883/10000)\n"
     ]
    },
    {
     "name": "stderr",
     "output_type": "stream",
     "text": [
      "Epoch 59: 100% (batch 938/938)  ==stats==> loss:   0.27, accuracy:  0.901, Time:  0:00:08\n"
     ]
    },
    {
     "name": "stdout",
     "output_type": "stream",
     "text": [
      "Test => Loss: 0.3197, Accuracy: 88.95% (8895/10000)\n"
     ]
    },
    {
     "name": "stderr",
     "output_type": "stream",
     "text": [
      "Epoch 60: 100% (batch 938/938)  ==stats==> loss:  0.267, accuracy:  0.902, Time:  0:00:08\n"
     ]
    },
    {
     "name": "stdout",
     "output_type": "stream",
     "text": [
      "Test => Loss: 0.3280, Accuracy: 88.14% (8814/10000)\n"
     ]
    },
    {
     "data": {
      "image/png": "[encoded data removed]",
      "text/plain": [
       "<matplotlib.figure.Figure at 0x7f52655114a8>"
      ]
     },
     "metadata": {},
     "output_type": "display_data"
    },
    {
     "name": "stdout",
     "output_type": "stream",
     "text": [
      "Testing both models on both datasets...\n"
     ]
    },
    {
     "data": {
      "image/png": "[encoded data removed]",
      "text/plain": [
       "<matplotlib.figure.Figure at 0x7f52655194e0>"
      ]
     },
     "metadata": {},
     "output_type": "display_data"
    },
    {
     "name": "stdout",
     "output_type": "stream",
     "text": [
      "model_rotated_test_dataset score: loss=12.529874, accuracy=0.208800\n",
      "model_rotated_train_dataset score: loss=12.647203, accuracy=0.212317\n",
      "model_test_dataset score: loss=0.371611, accuracy=0.924400\n",
      "model_train_dataset score: loss=0.031380, accuracy=0.988683\n",
      "rotated_model_rotated_test_dataset score: loss=0.335951, accuracy=0.880800\n",
      "rotated_model_rotated_train_dataset score: loss=0.276318, accuracy=0.898100\n",
      "rotated_model_test_dataset score: loss=0.352206, accuracy=0.879300\n",
      "rotated_model_train_dataset score: loss=0.293060, accuracy=0.893300\n"
     ]
    }
   ],
   "source": [
    "batch_size = 64\n",
    "\n",
    "epochs={'cifar10':5,'mnist':2,'fashion_mnist':12,'cluttered_mnist':10,'lsa16':15,'mnist_rot':5,'pugeault':15}\n",
    "from pytorch.experiment import rotation\n",
    "rotated_epochs={'cifar10':100,'mnist':2,'fashion_mnist':60,'cluttered_mnist':30,'lsa16':100,'mnist_rot':5,'pugeault':40}\n",
    "\n",
    "config=pytorch.experiment.rotation.TrainRotatedConfig(batch_size=batch_size,\n",
    "                   epochs=epochs[dataset.name],rotated_epochs=rotated_epochs[dataset.name],\n",
    "                   pre_rotated_epochs=0, optimizer=optimizer,rotated_optimizer=rotated_optimizer,\n",
    "                  use_cuda=use_cuda)\n",
    "\n",
    "scores=rotation.run(config,model,rotated_model,dataset,plot_accuracy=True,save_plots=False)\n",
    "for k,v in scores.items():\n",
    "    print('%s score: loss=%f, accuracy=%f' % (k,v[0],v[1]))\n"
   ]
  },
  {
   "cell_type": "code",
   "execution_count": 6,
   "metadata": {},
   "outputs": [],
   "source": [
    "from pytorch.experiment import invariance_evaluation\n",
    "\n",
    "n_rotations=16\n",
    "#results=invariance_evaluation.run(model,dataset,config)\n",
    "rotated_results,classes,rotations=invariance_evaluation.run(rotated_model,dataset,config,n_rotations)\n",
    "results,classes,rotations=invariance_evaluation.run(model,dataset,config,n_rotations)\n",
    "\n",
    "\n"
   ]
  },
  {
   "cell_type": "code",
   "execution_count": 7,
   "metadata": {},
   "outputs": [
    {
     "data": {
      "image/png": "[encoded data removed]",
      "text/plain": [
       "<matplotlib.figure.Figure at 0x7f52655d9550>"
      ]
     },
     "metadata": {},
     "output_type": "display_data"
    },
    {
     "data": {
      "image/png": "[encoded data removed]",
      "text/plain": [
       "<matplotlib.figure.Figure at 0x7f5265650cc0>"
      ]
     },
     "metadata": {},
     "output_type": "display_data"
    }
   ],
   "source": [
    "base_folder=\"plots/invariance_evaluation\"\n",
    "rotated_fig=invariance_evaluation.plot_results(rotated_results,classes,rotations)\n",
    "name=f\"{base_folder}/{dataset.name}_{model.name}_rotated.png\"\n",
    "rotated_fig.savefig(name)\n",
    "\n",
    "fig=invariance_evaluation.plot_results(results,classes,rotations)\n",
    "name=f\"{base_folder}/{dataset.name}_{model.name}_unrotated.png\"\n",
    "fig.savefig(name)\n"
   ]
  }
 ],
 "metadata": {
  "kernelspec": {
   "display_name": "Python 3",
   "language": "python",
   "name": "python3"
  },
  "language_info": {
   "codemirror_mode": {
    "name": "ipython",
    "version": 3
   },
   "file_extension": ".py",
   "mimetype": "text/x-python",
   "name": "python",
   "nbconvert_exporter": "python",
   "pygments_lexer": "ipython3",
   "version": "3.6.1"
  }
 },
 "nbformat": 4,
 "nbformat_minor": 2
}
