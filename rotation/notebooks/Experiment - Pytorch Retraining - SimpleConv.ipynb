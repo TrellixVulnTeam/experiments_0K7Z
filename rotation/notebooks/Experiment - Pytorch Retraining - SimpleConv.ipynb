{
 "cells": [
  {
   "cell_type": "code",
   "execution_count": 46,
   "metadata": {},
   "outputs": [
    {
     "name": "stdout",
     "output_type": "stream",
     "text": [
      "The autoreload extension is already loaded. To reload it, use:\n",
      "  %reload_ext autoreload\n"
     ]
    }
   ],
   "source": [
    "\n",
    "%load_ext autoreload\n",
    "%autoreload 2\n",
    "import matplotlib.pyplot as plt\n",
    "import pytorch_experiment\n",
    "plt.rcParams['image.cmap'] = 'gray'\n"
   ]
  },
  {
   "cell_type": "code",
   "execution_count": 47,
   "metadata": {},
   "outputs": [
    {
     "name": "stdout",
     "output_type": "stream",
     "text": [
      "x_train shape: (50000, 32, 32, 3) uint8\n",
      "x_test shape: (10000, 32, 32, 3) uint8\n",
      "y_train shape: (50000, 10) float64\n",
      "y_test shape: (10000, 10) float64\n",
      "50000 train samples\n",
      "10000 test samples\n",
      "[0 1 2 3 4 5 6 7 8 9]\n",
      "0.0 1.0\n"
     ]
    }
   ],
   "source": [
    "from torchsummary import summary\n",
    "import torch\n",
    "use_cuda=torch.cuda.is_available()\n",
    "\n",
    "\n",
    "import os\n",
    "import datasets\n",
    "import pytorch_models\n",
    "import torch.optim as optim\n",
    "dataset_name=\"cifar10\"\n",
    "(x_train, y_train), (x_test, y_test), input_shape,num_classes = datasets.get_data(dataset_name)\n",
    "dataset=pytorch_experiment.ClassificationDataset(dataset_name,x_train,x_test,y_train,y_test,num_classes,input_shape)\n",
    "\n",
    "print('x_train shape:', x_train.shape,x_train.dtype)\n",
    "print('x_test shape:', x_test.shape,x_test.dtype)\n",
    "print('y_train shape:', y_train.shape,y_train.dtype)\n",
    "print('y_test shape:', y_test.shape,y_test.dtype)\n",
    "print(x_train.shape[0], 'train samples')\n",
    "print(x_test.shape[0], 'test samples')\n",
    "\n",
    "\n",
    "import numpy as np\n",
    "print(np.unique(y_train.argmax(axis=1)))\n",
    "print(y_train.min(),y_train.max())\n"
   ]
  },
  {
   "cell_type": "code",
   "execution_count": 49,
   "metadata": {},
   "outputs": [
    {
     "name": "stdout",
     "output_type": "stream",
     "text": [
      "SimpleConv(\n",
      "  (conv): Sequential(\n",
      "    (0): Conv2d(3, 64, kernel_size=(3, 3), stride=(1, 1), padding=(1, 1))\n",
      "    (1): ReLU()\n",
      "    (2): Conv2d(64, 64, kernel_size=(3, 3), stride=(1, 1), padding=(1, 1))\n",
      "    (3): ReLU()\n",
      "    (4): MaxPool2d(kernel_size=2, stride=2, padding=0, dilation=1, ceil_mode=False)\n",
      "    (5): Conv2d(64, 128, kernel_size=(3, 3), stride=(1, 1), padding=(1, 1))\n",
      "    (6): ReLU()\n",
      "    (7): Conv2d(128, 128, kernel_size=(3, 3), stride=(1, 1), padding=(1, 1))\n",
      "    (8): ReLU()\n",
      "    (9): MaxPool2d(kernel_size=2, stride=2, padding=0, dilation=1, ceil_mode=False)\n",
      "    (10): Conv2d(128, 256, kernel_size=(3, 3), stride=(1, 1), padding=(1, 1))\n",
      "    (11): ReLU()\n",
      "  )\n",
      "  (fc): Sequential(\n",
      "    (0): Linear(in_features=16384, out_features=128, bias=True)\n",
      "    (1): ReLU()\n",
      "    (2): Linear(in_features=128, out_features=10, bias=True)\n",
      "  )\n",
      ")\n"
     ]
    }
   ],
   "source": [
    "conv_filters={\"mnist\":32,\"mnist_rot\":32,\"cifar10\":64}\n",
    "fc_filters={\"mnist\":64,\"mnist_rot\":64,\"cifar10\":128}\n",
    "\n",
    "def subset(l,indices):\n",
    "    return [l[i] for i in indices]\n",
    "\n",
    "def freeze_layers_except(layers,layer_names,layers_to_train):\n",
    "    for i in range(len(layers)):\n",
    "        name=layer_names[i]\n",
    "        layer=layers[i]\n",
    "        requires_grad=name in layers_to_train\n",
    "        #print(f\"Layer {name}: setting requires_grad to {requires_grad}.\")\n",
    "        for param in layer.parameters():\n",
    "            param.requires_grad=requires_grad\n",
    "\n",
    "\n",
    "            \n",
    "def model_optimizer_generator(previous_model=None,trainable_layers=None):\n",
    "    model = pytorch_models.SimpleConv(dataset.input_shape,dataset.num_classes,\n",
    "                                     conv_filters=conv_filters[dataset.name],fc_filters=fc_filters[dataset.name])\n",
    "    if use_cuda:\n",
    "        model=model.cuda()\n",
    "    if previous_model:\n",
    "        model.load_state_dict(previous_model.state_dict())\n",
    "        \n",
    "    if trainable_layers:\n",
    "        freeze_layers_except(model.layers(),model.layer_names(),trainable_layers)\n",
    "        \n",
    "    parameters=pytorch_experiment.add_weight_decay(model.named_parameters(),1e-9)\n",
    "    optimizer = optim.Adam(parameters, lr=0.001)\n",
    "    \n",
    "    return model,optimizer\n",
    "\n",
    "model,optimizer=model_optimizer_generator()\n",
    "print(model)\n",
    "\n"
   ]
  },
  {
   "cell_type": "code",
   "execution_count": 50,
   "metadata": {
    "scrolled": false
   },
   "outputs": [
    {
     "name": "stdout",
     "output_type": "stream",
     "text": [
      "Retraining schemes:\n",
      "\n",
      "c1\n",
      "c2\n",
      "c3\n",
      "c4\n",
      "c5\n",
      "fc1\n",
      "fc2\n",
      "c1_c2_c3_c4_c5\n",
      "fc1_fc2\n",
      "c1_c2_c3_c4_c5_fc1_fc2\n"
     ]
    },
    {
     "name": "stderr",
     "output_type": "stream",
     "text": [
      "\r",
      "                                                                               \r",
      "\r",
      "Epoch 1: N/A% (batch 0/782)  ==stats==> loss: ------, accuracy: ------, ETA:  --:--:--"
     ]
    },
    {
     "name": "stdout",
     "output_type": "stream",
     "text": [
      "Training vanilla network with unrotated dataset..\n"
     ]
    },
    {
     "name": "stderr",
     "output_type": "stream",
     "text": [
      "Epoch 1: 100% (batch 782/782)  ==stats==> loss:   1.34, accuracy:  0.511, Time:  0:00:22\n"
     ]
    },
    {
     "name": "stdout",
     "output_type": "stream",
     "text": [
      "Test => Loss: 0.9901, Accuracy: 65.06% (6506/10000)\n"
     ]
    },
    {
     "name": "stderr",
     "output_type": "stream",
     "text": [
      "Epoch 2: 100% (batch 782/782)  ==stats==> loss:  0.824, accuracy:  0.711, Time:  0:00:22\n"
     ]
    },
    {
     "name": "stdout",
     "output_type": "stream",
     "text": [
      "Test => Loss: 0.7809, Accuracy: 72.87% (7287/10000)\n"
     ]
    },
    {
     "name": "stderr",
     "output_type": "stream",
     "text": [
      "Epoch 3: 100% (batch 782/782)  ==stats==> loss:  0.616, accuracy:  0.785, Time:  0:00:24\n"
     ]
    },
    {
     "name": "stdout",
     "output_type": "stream",
     "text": [
      "Test => Loss: 0.6870, Accuracy: 76.49% (7649/10000)\n"
     ]
    },
    {
     "name": "stderr",
     "output_type": "stream",
     "text": [
      "Epoch 4: 100% (batch 782/782)  ==stats==> loss:  0.471, accuracy:  0.836, Time:  0:00:22\n"
     ]
    },
    {
     "name": "stdout",
     "output_type": "stream",
     "text": [
      "Test => Loss: 0.6894, Accuracy: 77.38% (7738/10000)\n"
     ]
    },
    {
     "name": "stderr",
     "output_type": "stream",
     "text": [
      "\r",
      "                                                                               \r",
      "\r",
      "Epoch 1: N/A% (batch 0/782)  ==stats==> loss: ------, accuracy: ------, ETA:  --:--:--"
     ]
    },
    {
     "name": "stdout",
     "output_type": "stream",
     "text": [
      "Retraining ['c1'] with rotated dataset:\n"
     ]
    },
    {
     "name": "stderr",
     "output_type": "stream",
     "text": [
      "Epoch 1: 100% (batch 782/782)  ==stats==> loss:   1.94, accuracy:  0.321, Time:  0:00:16\n"
     ]
    },
    {
     "name": "stdout",
     "output_type": "stream",
     "text": [
      "Test => Loss: 1.8538, Accuracy: 33.14% (3314/10000)\n"
     ]
    },
    {
     "name": "stderr",
     "output_type": "stream",
     "text": [
      "Epoch 2: 100% (batch 782/782)  ==stats==> loss:   1.82, accuracy:  0.342, Time:  0:00:17\n"
     ]
    },
    {
     "name": "stdout",
     "output_type": "stream",
     "text": [
      "Test => Loss: 1.8127, Accuracy: 35.20% (3520/10000)\n"
     ]
    },
    {
     "name": "stderr",
     "output_type": "stream",
     "text": [
      "Epoch 3: 100% (batch 782/782)  ==stats==> loss:   1.79, accuracy:  0.358, Time:  0:00:18\n"
     ]
    },
    {
     "name": "stdout",
     "output_type": "stream",
     "text": [
      "Test => Loss: 1.7805, Accuracy: 36.31% (3631/10000)\n"
     ]
    },
    {
     "name": "stderr",
     "output_type": "stream",
     "text": [
      "Epoch 4: 100% (batch 782/782)  ==stats==> loss:   1.77, accuracy:  0.368, Time:  0:00:21\n"
     ]
    },
    {
     "name": "stdout",
     "output_type": "stream",
     "text": [
      "Test => Loss: 1.7506, Accuracy: 36.92% (3692/10000)\n"
     ]
    },
    {
     "name": "stderr",
     "output_type": "stream",
     "text": [
      "Epoch 5: 100% (batch 782/782)  ==stats==> loss:   1.75, accuracy:  0.368, Time:  0:00:22\n"
     ]
    },
    {
     "name": "stdout",
     "output_type": "stream",
     "text": [
      "Test => Loss: 1.7733, Accuracy: 36.89% (3689/10000)\n"
     ]
    },
    {
     "name": "stderr",
     "output_type": "stream",
     "text": [
      "Epoch 6: 100% (batch 782/782)  ==stats==> loss:   1.74, accuracy:  0.374, Time:  0:00:22\n"
     ]
    },
    {
     "name": "stdout",
     "output_type": "stream",
     "text": [
      "Test => Loss: 1.7628, Accuracy: 37.20% (3720/10000)\n"
     ]
    },
    {
     "name": "stderr",
     "output_type": "stream",
     "text": [
      "Epoch 7: 100% (batch 782/782)  ==stats==> loss:   1.73, accuracy:  0.378, Time:  0:00:22\n"
     ]
    },
    {
     "name": "stdout",
     "output_type": "stream",
     "text": [
      "Test => Loss: 1.7282, Accuracy: 37.73% (3773/10000)\n"
     ]
    },
    {
     "name": "stderr",
     "output_type": "stream",
     "text": [
      "\r",
      "                                                                               \r",
      "\r",
      "Epoch 1: N/A% (batch 0/782)  ==stats==> loss: ------, accuracy: ------, ETA:  --:--:--"
     ]
    },
    {
     "name": "stdout",
     "output_type": "stream",
     "text": [
      "Retraining ['c2'] with rotated dataset:\n"
     ]
    },
    {
     "name": "stderr",
     "output_type": "stream",
     "text": [
      "Epoch 1: 100% (batch 782/782)  ==stats==> loss:   1.74, accuracy:  0.379, Time:  0:00:24\n"
     ]
    },
    {
     "name": "stdout",
     "output_type": "stream",
     "text": [
      "Test => Loss: 1.6741, Accuracy: 39.06% (3906/10000)\n"
     ]
    },
    {
     "name": "stderr",
     "output_type": "stream",
     "text": [
      "Epoch 2: 100% (batch 782/782)  ==stats==> loss:   1.64, accuracy:  0.408, Time:  0:00:23\n"
     ]
    },
    {
     "name": "stdout",
     "output_type": "stream",
     "text": [
      "Test => Loss: 1.6378, Accuracy: 41.42% (4142/10000)\n"
     ]
    },
    {
     "name": "stderr",
     "output_type": "stream",
     "text": [
      "Epoch 3: 100% (batch 782/782)  ==stats==> loss:    1.6, accuracy:  0.421, Time:  0:00:23\n"
     ]
    },
    {
     "name": "stdout",
     "output_type": "stream",
     "text": [
      "Test => Loss: 1.6103, Accuracy: 41.58% (4158/10000)\n"
     ]
    },
    {
     "name": "stderr",
     "output_type": "stream",
     "text": [
      "Epoch 4: 100% (batch 782/782)  ==stats==> loss:   1.59, accuracy:  0.429, Time:  0:00:24\n"
     ]
    },
    {
     "name": "stdout",
     "output_type": "stream",
     "text": [
      "Test => Loss: 1.6080, Accuracy: 42.84% (4284/10000)\n"
     ]
    },
    {
     "name": "stderr",
     "output_type": "stream",
     "text": [
      "Epoch 5: 100% (batch 782/782)  ==stats==> loss:   1.57, accuracy:  0.434, Time:  0:00:23\n"
     ]
    },
    {
     "name": "stdout",
     "output_type": "stream",
     "text": [
      "Test => Loss: 1.5668, Accuracy: 43.42% (4342/10000)\n"
     ]
    },
    {
     "name": "stderr",
     "output_type": "stream",
     "text": [
      "Epoch 6: 100% (batch 782/782)  ==stats==> loss:   1.56, accuracy:  0.437, Time:  0:00:23\n"
     ]
    },
    {
     "name": "stdout",
     "output_type": "stream",
     "text": [
      "Test => Loss: 1.5877, Accuracy: 42.89% (4289/10000)\n"
     ]
    },
    {
     "name": "stderr",
     "output_type": "stream",
     "text": [
      "Epoch 7: 100% (batch 782/782)  ==stats==> loss:   1.54, accuracy:  0.444, Time:  0:00:21\n"
     ]
    },
    {
     "name": "stdout",
     "output_type": "stream",
     "text": [
      "Test => Loss: 1.5604, Accuracy: 42.82% (4282/10000)\n"
     ]
    },
    {
     "name": "stderr",
     "output_type": "stream",
     "text": [
      "\r",
      "                                                                               \r",
      "\r",
      "Epoch 1: N/A% (batch 0/782)  ==stats==> loss: ------, accuracy: ------, ETA:  --:--:--"
     ]
    },
    {
     "name": "stdout",
     "output_type": "stream",
     "text": [
      "Retraining ['c3'] with rotated dataset:\n"
     ]
    },
    {
     "name": "stderr",
     "output_type": "stream",
     "text": [
      "Epoch 1: 100% (batch 782/782)  ==stats==> loss:   1.68, accuracy:  0.401, Time:  0:00:22\n"
     ]
    },
    {
     "name": "stdout",
     "output_type": "stream",
     "text": [
      "Test => Loss: 1.5941, Accuracy: 43.56% (4356/10000)\n"
     ]
    },
    {
     "name": "stderr",
     "output_type": "stream",
     "text": [
      "Epoch 2: 100% (batch 782/782)  ==stats==> loss:   1.54, accuracy:  0.444, Time:  0:00:20\n"
     ]
    },
    {
     "name": "stdout",
     "output_type": "stream",
     "text": [
      "Test => Loss: 1.5373, Accuracy: 43.76% (4376/10000)\n"
     ]
    },
    {
     "name": "stderr",
     "output_type": "stream",
     "text": [
      "Epoch 3: 100% (batch 782/782)  ==stats==> loss:    1.5, accuracy:  0.459, Time:  0:00:21\n"
     ]
    },
    {
     "name": "stdout",
     "output_type": "stream",
     "text": [
      "Test => Loss: 1.5054, Accuracy: 45.93% (4593/10000)\n"
     ]
    },
    {
     "name": "stderr",
     "output_type": "stream",
     "text": [
      "Epoch 4: 100% (batch 782/782)  ==stats==> loss:   1.48, accuracy:  0.468, Time:  0:00:21\n"
     ]
    },
    {
     "name": "stdout",
     "output_type": "stream",
     "text": [
      "Test => Loss: 1.4925, Accuracy: 46.47% (4647/10000)\n"
     ]
    },
    {
     "name": "stderr",
     "output_type": "stream",
     "text": [
      "Epoch 5: 100% (batch 782/782)  ==stats==> loss:   1.46, accuracy:  0.475, Time:  0:00:21\n"
     ]
    },
    {
     "name": "stdout",
     "output_type": "stream",
     "text": [
      "Test => Loss: 1.4728, Accuracy: 46.75% (4675/10000)\n"
     ]
    },
    {
     "name": "stderr",
     "output_type": "stream",
     "text": [
      "Epoch 6: 100% (batch 782/782)  ==stats==> loss:   1.45, accuracy:  0.477, Time:  0:00:22\n"
     ]
    },
    {
     "name": "stdout",
     "output_type": "stream",
     "text": [
      "Test => Loss: 1.4484, Accuracy: 47.43% (4743/10000)\n"
     ]
    },
    {
     "name": "stderr",
     "output_type": "stream",
     "text": [
      "Epoch 7: 100% (batch 782/782)  ==stats==> loss:   1.44, accuracy:  0.483, Time:  0:00:22\n"
     ]
    },
    {
     "name": "stdout",
     "output_type": "stream",
     "text": [
      "Test => Loss: 1.4455, Accuracy: 47.60% (4760/10000)\n"
     ]
    },
    {
     "name": "stderr",
     "output_type": "stream",
     "text": [
      "\r",
      "                                                                               \r",
      "\r",
      "Epoch 1: N/A% (batch 0/782)  ==stats==> loss: ------, accuracy: ------, ETA:  --:--:--"
     ]
    },
    {
     "name": "stdout",
     "output_type": "stream",
     "text": [
      "Retraining ['c4'] with rotated dataset:\n"
     ]
    },
    {
     "name": "stderr",
     "output_type": "stream",
     "text": [
      "Epoch 1: 100% (batch 782/782)  ==stats==> loss:   1.63, accuracy:  0.418, Time:  0:00:20\n"
     ]
    },
    {
     "name": "stdout",
     "output_type": "stream",
     "text": [
      "Test => Loss: 1.5346, Accuracy: 44.54% (4454/10000)\n"
     ]
    },
    {
     "name": "stderr",
     "output_type": "stream",
     "text": [
      "Epoch 2: 100% (batch 782/782)  ==stats==> loss:   1.48, accuracy:  0.466, Time:  0:00:20\n"
     ]
    },
    {
     "name": "stdout",
     "output_type": "stream",
     "text": [
      "Test => Loss: 1.4625, Accuracy: 47.27% (4727/10000)\n"
     ]
    },
    {
     "name": "stderr",
     "output_type": "stream",
     "text": [
      "Epoch 3: 100% (batch 782/782)  ==stats==> loss:   1.43, accuracy:  0.484, Time:  0:00:21\n"
     ]
    },
    {
     "name": "stdout",
     "output_type": "stream",
     "text": [
      "Test => Loss: 1.4184, Accuracy: 48.71% (4871/10000)\n"
     ]
    },
    {
     "name": "stderr",
     "output_type": "stream",
     "text": [
      "Epoch 4: 100% (batch 782/782)  ==stats==> loss:    1.4, accuracy:  0.499, Time:  0:00:19\n"
     ]
    },
    {
     "name": "stdout",
     "output_type": "stream",
     "text": [
      "Test => Loss: 1.3917, Accuracy: 49.21% (4921/10000)\n"
     ]
    },
    {
     "name": "stderr",
     "output_type": "stream",
     "text": [
      "Epoch 5: 100% (batch 782/782)  ==stats==> loss:   1.38, accuracy:    0.5, Time:  0:00:20\n"
     ]
    },
    {
     "name": "stdout",
     "output_type": "stream",
     "text": [
      "Test => Loss: 1.3907, Accuracy: 49.53% (4953/10000)\n"
     ]
    },
    {
     "name": "stderr",
     "output_type": "stream",
     "text": [
      "Epoch 6: 100% (batch 782/782)  ==stats==> loss:   1.36, accuracy:  0.506, Time:  0:00:21\n"
     ]
    },
    {
     "name": "stdout",
     "output_type": "stream",
     "text": [
      "Test => Loss: 1.3661, Accuracy: 50.51% (5051/10000)\n"
     ]
    },
    {
     "name": "stderr",
     "output_type": "stream",
     "text": [
      "Epoch 7: 100% (batch 782/782)  ==stats==> loss:   1.35, accuracy:  0.512, Time:  0:00:21\n"
     ]
    },
    {
     "name": "stdout",
     "output_type": "stream",
     "text": [
      "Test => Loss: 1.3657, Accuracy: 51.00% (5100/10000)\n"
     ]
    },
    {
     "name": "stderr",
     "output_type": "stream",
     "text": [
      "\r",
      "                                                                               \r",
      "\r",
      "Epoch 1: N/A% (batch 0/782)  ==stats==> loss: ------, accuracy: ------, ETA:  --:--:--"
     ]
    },
    {
     "name": "stdout",
     "output_type": "stream",
     "text": [
      "Retraining ['c5'] with rotated dataset:\n"
     ]
    },
    {
     "name": "stderr",
     "output_type": "stream",
     "text": [
      "Epoch 1: 100% (batch 782/782)  ==stats==> loss:   1.57, accuracy:  0.436, Time:  0:00:21\n"
     ]
    },
    {
     "name": "stdout",
     "output_type": "stream",
     "text": [
      "Test => Loss: 1.4818, Accuracy: 47.33% (4733/10000)\n"
     ]
    },
    {
     "name": "stderr",
     "output_type": "stream",
     "text": [
      "Epoch 2: 100% (batch 782/782)  ==stats==> loss:   1.41, accuracy:  0.492, Time:  0:00:21\n"
     ]
    },
    {
     "name": "stdout",
     "output_type": "stream",
     "text": [
      "Test => Loss: 1.3904, Accuracy: 50.88% (5088/10000)\n"
     ]
    },
    {
     "name": "stderr",
     "output_type": "stream",
     "text": [
      "Epoch 3: 100% (batch 782/782)  ==stats==> loss:   1.36, accuracy:  0.513, Time:  0:00:20\n"
     ]
    },
    {
     "name": "stdout",
     "output_type": "stream",
     "text": [
      "Test => Loss: 1.3523, Accuracy: 51.49% (5149/10000)\n"
     ]
    },
    {
     "name": "stderr",
     "output_type": "stream",
     "text": [
      "Epoch 4: 100% (batch 782/782)  ==stats==> loss:   1.33, accuracy:  0.525, Time:  0:00:21\n"
     ]
    },
    {
     "name": "stdout",
     "output_type": "stream",
     "text": [
      "Test => Loss: 1.3182, Accuracy: 52.49% (5249/10000)\n"
     ]
    },
    {
     "name": "stderr",
     "output_type": "stream",
     "text": [
      "Epoch 5: 100% (batch 782/782)  ==stats==> loss:    1.3, accuracy:  0.535, Time:  0:00:21\n"
     ]
    },
    {
     "name": "stdout",
     "output_type": "stream",
     "text": [
      "Test => Loss: 1.3009, Accuracy: 52.78% (5278/10000)\n"
     ]
    },
    {
     "name": "stderr",
     "output_type": "stream",
     "text": [
      "Epoch 6: 100% (batch 782/782)  ==stats==> loss:   1.29, accuracy:  0.541, Time:  0:00:20\n"
     ]
    },
    {
     "name": "stdout",
     "output_type": "stream",
     "text": [
      "Test => Loss: 1.3029, Accuracy: 53.43% (5343/10000)\n"
     ]
    },
    {
     "name": "stderr",
     "output_type": "stream",
     "text": [
      "Epoch 7: 100% (batch 782/782)  ==stats==> loss:   1.26, accuracy:  0.551, Time:  0:00:19\n"
     ]
    },
    {
     "name": "stdout",
     "output_type": "stream",
     "text": [
      "Test => Loss: 1.2894, Accuracy: 53.80% (5380/10000)\n"
     ]
    },
    {
     "name": "stderr",
     "output_type": "stream",
     "text": [
      "\r",
      "                                                                               \r",
      "\r",
      "Epoch 1: N/A% (batch 0/782)  ==stats==> loss: ------, accuracy: ------, ETA:  --:--:--"
     ]
    },
    {
     "name": "stdout",
     "output_type": "stream",
     "text": [
      "Retraining ['fc1'] with rotated dataset:\n"
     ]
    },
    {
     "name": "stderr",
     "output_type": "stream",
     "text": [
      "Epoch 1: 100% (batch 782/782)  ==stats==> loss:   1.55, accuracy:  0.448, Time:  0:00:20\n"
     ]
    },
    {
     "name": "stdout",
     "output_type": "stream",
     "text": [
      "Test => Loss: 1.4326, Accuracy: 48.80% (4880/10000)\n"
     ]
    },
    {
     "name": "stderr",
     "output_type": "stream",
     "text": [
      "Epoch 2: 100% (batch 782/782)  ==stats==> loss:   1.38, accuracy:  0.509, Time:  0:00:19\n"
     ]
    },
    {
     "name": "stdout",
     "output_type": "stream",
     "text": [
      "Test => Loss: 1.3636, Accuracy: 52.04% (5204/10000)\n"
     ]
    },
    {
     "name": "stderr",
     "output_type": "stream",
     "text": [
      "Epoch 3: 100% (batch 782/782)  ==stats==> loss:   1.32, accuracy:  0.532, Time:  0:00:20\n"
     ]
    },
    {
     "name": "stdout",
     "output_type": "stream",
     "text": [
      "Test => Loss: 1.3267, Accuracy: 53.07% (5307/10000)\n"
     ]
    },
    {
     "name": "stderr",
     "output_type": "stream",
     "text": [
      "Epoch 4: 100% (batch 782/782)  ==stats==> loss:   1.29, accuracy:  0.545, Time:  0:00:20\n"
     ]
    },
    {
     "name": "stdout",
     "output_type": "stream",
     "text": [
      "Test => Loss: 1.3170, Accuracy: 53.24% (5324/10000)\n"
     ]
    },
    {
     "name": "stderr",
     "output_type": "stream",
     "text": [
      "Epoch 5: 100% (batch 782/782)  ==stats==> loss:   1.27, accuracy:   0.55, Time:  0:00:20\n"
     ]
    },
    {
     "name": "stdout",
     "output_type": "stream",
     "text": [
      "Test => Loss: 1.3068, Accuracy: 54.60% (5460/10000)\n"
     ]
    },
    {
     "name": "stderr",
     "output_type": "stream",
     "text": [
      "Epoch 6: 100% (batch 782/782)  ==stats==> loss:   1.25, accuracy:  0.561, Time:  0:00:16\n"
     ]
    },
    {
     "name": "stdout",
     "output_type": "stream",
     "text": [
      "Test => Loss: 1.2811, Accuracy: 55.75% (5575/10000)\n"
     ]
    },
    {
     "name": "stderr",
     "output_type": "stream",
     "text": [
      "Epoch 7: 100% (batch 782/782)  ==stats==> loss:   1.24, accuracy:  0.564, Time:  0:00:15\n"
     ]
    },
    {
     "name": "stdout",
     "output_type": "stream",
     "text": [
      "Test => Loss: 1.2798, Accuracy: 55.27% (5527/10000)\n"
     ]
    },
    {
     "name": "stderr",
     "output_type": "stream",
     "text": [
      "\r",
      "                                                                               \r",
      "\r",
      "Epoch 1: N/A% (batch 0/782)  ==stats==> loss: ------, accuracy: ------, ETA:  --:--:--"
     ]
    },
    {
     "name": "stdout",
     "output_type": "stream",
     "text": [
      "Retraining ['fc2'] with rotated dataset:\n"
     ]
    },
    {
     "name": "stderr",
     "output_type": "stream",
     "text": [
      "Epoch 1: 100% (batch 782/782)  ==stats==> loss:   1.83, accuracy:  0.368, Time:  0:00:18\n"
     ]
    },
    {
     "name": "stdout",
     "output_type": "stream",
     "text": [
      "Test => Loss: 1.7251, Accuracy: 37.53% (3753/10000)\n"
     ]
    },
    {
     "name": "stderr",
     "output_type": "stream",
     "text": [
      "Epoch 2: 100% (batch 782/782)  ==stats==> loss:    1.7, accuracy:  0.383, Time:  0:00:18\n"
     ]
    },
    {
     "name": "stdout",
     "output_type": "stream",
     "text": [
      "Test => Loss: 1.6958, Accuracy: 38.50% (3850/10000)\n"
     ]
    },
    {
     "name": "stderr",
     "output_type": "stream",
     "text": [
      "Epoch 3: 100% (batch 782/782)  ==stats==> loss:   1.69, accuracy:  0.389, Time:  0:00:15\n"
     ]
    },
    {
     "name": "stdout",
     "output_type": "stream",
     "text": [
      "Test => Loss: 1.7033, Accuracy: 38.34% (3834/10000)\n"
     ]
    },
    {
     "name": "stderr",
     "output_type": "stream",
     "text": [
      "Epoch 4: 100% (batch 782/782)  ==stats==> loss:    1.7, accuracy:  0.386, Time:  0:00:16\n"
     ]
    },
    {
     "name": "stdout",
     "output_type": "stream",
     "text": [
      "Test => Loss: 1.7048, Accuracy: 38.58% (3858/10000)\n"
     ]
    },
    {
     "name": "stderr",
     "output_type": "stream",
     "text": [
      "Epoch 5: 100% (batch 782/782)  ==stats==> loss:    1.7, accuracy:  0.384, Time:  0:00:19\n"
     ]
    },
    {
     "name": "stdout",
     "output_type": "stream",
     "text": [
      "Test => Loss: 1.6983, Accuracy: 38.30% (3830/10000)\n"
     ]
    },
    {
     "name": "stderr",
     "output_type": "stream",
     "text": [
      "Epoch 6: 100% (batch 782/782)  ==stats==> loss:    1.7, accuracy:   0.39, Time:  0:00:20\n"
     ]
    },
    {
     "name": "stdout",
     "output_type": "stream",
     "text": [
      "Test => Loss: 1.6950, Accuracy: 38.34% (3834/10000)\n"
     ]
    },
    {
     "name": "stderr",
     "output_type": "stream",
     "text": [
      "Epoch 7: 100% (batch 782/782)  ==stats==> loss:    1.7, accuracy:  0.387, Time:  0:00:20\n"
     ]
    },
    {
     "name": "stdout",
     "output_type": "stream",
     "text": [
      "Test => Loss: 1.6967, Accuracy: 38.83% (3883/10000)\n"
     ]
    },
    {
     "name": "stderr",
     "output_type": "stream",
     "text": [
      "\r",
      "                                                                               \r",
      "\r",
      "Epoch 1: N/A% (batch 0/782)  ==stats==> loss: ------, accuracy: ------, ETA:  --:--:--"
     ]
    },
    {
     "name": "stdout",
     "output_type": "stream",
     "text": [
      "Retraining ['c1', 'c2', 'c3', 'c4', 'c5'] with rotated dataset:\n"
     ]
    },
    {
     "name": "stderr",
     "output_type": "stream",
     "text": [
      "Epoch 1: 100% (batch 782/782)  ==stats==> loss:   1.48, accuracy:  0.465, Time:  0:00:28\n"
     ]
    },
    {
     "name": "stdout",
     "output_type": "stream",
     "text": [
      "Test => Loss: 1.3445, Accuracy: 51.54% (5154/10000)\n"
     ]
    },
    {
     "name": "stderr",
     "output_type": "stream",
     "text": [
      "Epoch 2: 100% (batch 782/782)  ==stats==> loss:   1.29, accuracy:  0.536, Time:  0:00:29\n"
     ]
    },
    {
     "name": "stdout",
     "output_type": "stream",
     "text": [
      "Test => Loss: 1.2655, Accuracy: 54.69% (5469/10000)\n"
     ]
    },
    {
     "name": "stderr",
     "output_type": "stream",
     "text": [
      "Epoch 3: 100% (batch 782/782)  ==stats==> loss:   1.22, accuracy:  0.565, Time:  0:00:28\n"
     ]
    },
    {
     "name": "stdout",
     "output_type": "stream",
     "text": [
      "Test => Loss: 1.2115, Accuracy: 56.97% (5697/10000)\n"
     ]
    },
    {
     "name": "stderr",
     "output_type": "stream",
     "text": [
      "Epoch 4: 100% (batch 782/782)  ==stats==> loss:   1.16, accuracy:  0.586, Time:  0:00:26\n"
     ]
    },
    {
     "name": "stdout",
     "output_type": "stream",
     "text": [
      "Test => Loss: 1.1948, Accuracy: 57.55% (5755/10000)\n"
     ]
    },
    {
     "name": "stderr",
     "output_type": "stream",
     "text": [
      "Epoch 5: 100% (batch 782/782)  ==stats==> loss:   1.13, accuracy:  0.599, Time:  0:00:27\n"
     ]
    },
    {
     "name": "stdout",
     "output_type": "stream",
     "text": [
      "Test => Loss: 1.1422, Accuracy: 59.69% (5969/10000)\n"
     ]
    },
    {
     "name": "stderr",
     "output_type": "stream",
     "text": [
      "Epoch 6: 100% (batch 782/782)  ==stats==> loss:   1.09, accuracy:  0.611, Time:  0:00:29\n"
     ]
    },
    {
     "name": "stdout",
     "output_type": "stream",
     "text": [
      "Test => Loss: 1.1347, Accuracy: 60.08% (6008/10000)\n"
     ]
    },
    {
     "name": "stderr",
     "output_type": "stream",
     "text": [
      "Epoch 7: 100% (batch 782/782)  ==stats==> loss:   1.07, accuracy:  0.622, Time:  0:00:28\n"
     ]
    },
    {
     "name": "stdout",
     "output_type": "stream",
     "text": [
      "Test => Loss: 1.0859, Accuracy: 61.62% (6162/10000)\n"
     ]
    },
    {
     "name": "stderr",
     "output_type": "stream",
     "text": [
      "\r",
      "                                                                               \r",
      "\r",
      "Epoch 1: N/A% (batch 0/782)  ==stats==> loss: ------, accuracy: ------, ETA:  --:--:--"
     ]
    },
    {
     "name": "stdout",
     "output_type": "stream",
     "text": [
      "Retraining ['fc1', 'fc2'] with rotated dataset:\n"
     ]
    },
    {
     "name": "stderr",
     "output_type": "stream",
     "text": [
      "Epoch 1: 100% (batch 782/782)  ==stats==> loss:   1.53, accuracy:  0.454, Time:  0:00:22\n"
     ]
    },
    {
     "name": "stdout",
     "output_type": "stream",
     "text": [
      "Test => Loss: 1.4190, Accuracy: 49.19% (4919/10000)\n"
     ]
    },
    {
     "name": "stderr",
     "output_type": "stream",
     "text": [
      "Epoch 2: 100% (batch 782/782)  ==stats==> loss:   1.35, accuracy:  0.517, Time:  0:00:21\n"
     ]
    },
    {
     "name": "stdout",
     "output_type": "stream",
     "text": [
      "Test => Loss: 1.3327, Accuracy: 52.61% (5261/10000)\n"
     ]
    },
    {
     "name": "stderr",
     "output_type": "stream",
     "text": [
      "Epoch 3: 100% (batch 782/782)  ==stats==> loss:    1.3, accuracy:  0.538, Time:  0:00:23\n"
     ]
    },
    {
     "name": "stdout",
     "output_type": "stream",
     "text": [
      "Test => Loss: 1.3175, Accuracy: 53.37% (5337/10000)\n"
     ]
    },
    {
     "name": "stderr",
     "output_type": "stream",
     "text": [
      "Epoch 4: 100% (batch 782/782)  ==stats==> loss:   1.27, accuracy:   0.55, Time:  0:00:20\n"
     ]
    },
    {
     "name": "stdout",
     "output_type": "stream",
     "text": [
      "Test => Loss: 1.2738, Accuracy: 54.74% (5474/10000)\n"
     ]
    },
    {
     "name": "stderr",
     "output_type": "stream",
     "text": [
      "Epoch 5: 100% (batch 782/782)  ==stats==> loss:   1.24, accuracy:  0.561, Time:  0:00:22\n"
     ]
    },
    {
     "name": "stdout",
     "output_type": "stream",
     "text": [
      "Test => Loss: 1.2494, Accuracy: 55.43% (5543/10000)\n"
     ]
    },
    {
     "name": "stderr",
     "output_type": "stream",
     "text": [
      "Epoch 6: 100% (batch 782/782)  ==stats==> loss:   1.22, accuracy:  0.569, Time:  0:00:21\n"
     ]
    },
    {
     "name": "stdout",
     "output_type": "stream",
     "text": [
      "Test => Loss: 1.2266, Accuracy: 56.30% (5630/10000)\n"
     ]
    },
    {
     "name": "stderr",
     "output_type": "stream",
     "text": [
      "Epoch 7: 100% (batch 782/782)  ==stats==> loss:    1.2, accuracy:  0.575, Time:  0:00:21\n"
     ]
    },
    {
     "name": "stdout",
     "output_type": "stream",
     "text": [
      "Test => Loss: 1.2317, Accuracy: 56.58% (5658/10000)\n"
     ]
    },
    {
     "name": "stderr",
     "output_type": "stream",
     "text": [
      "\r",
      "                                                                               \r",
      "\r",
      "Epoch 1: N/A% (batch 0/782)  ==stats==> loss: ------, accuracy: ------, ETA:  --:--:--"
     ]
    },
    {
     "name": "stdout",
     "output_type": "stream",
     "text": [
      "Retraining ['c1', 'c2', 'c3', 'c4', 'c5', 'fc1', 'fc2'] with rotated dataset:\n"
     ]
    },
    {
     "name": "stderr",
     "output_type": "stream",
     "text": [
      "Epoch 1: 100% (batch 782/782)  ==stats==> loss:   1.41, accuracy:  0.491, Time:  0:00:28\n"
     ]
    },
    {
     "name": "stdout",
     "output_type": "stream",
     "text": [
      "Test => Loss: 1.3094, Accuracy: 53.27% (5327/10000)\n"
     ]
    },
    {
     "name": "stderr",
     "output_type": "stream",
     "text": [
      "Epoch 2: 100% (batch 782/782)  ==stats==> loss:   1.23, accuracy:  0.561, Time:  0:00:29\n"
     ]
    },
    {
     "name": "stdout",
     "output_type": "stream",
     "text": [
      "Test => Loss: 1.2052, Accuracy: 57.54% (5754/10000)\n"
     ]
    },
    {
     "name": "stderr",
     "output_type": "stream",
     "text": [
      "Epoch 3: 100% (batch 782/782)  ==stats==> loss:   1.15, accuracy:  0.588, Time:  0:00:27\n"
     ]
    },
    {
     "name": "stdout",
     "output_type": "stream",
     "text": [
      "Test => Loss: 1.1544, Accuracy: 59.60% (5960/10000)\n"
     ]
    },
    {
     "name": "stderr",
     "output_type": "stream",
     "text": [
      "Epoch 4: 100% (batch 782/782)  ==stats==> loss:    1.1, accuracy:  0.611, Time:  0:00:27\n"
     ]
    },
    {
     "name": "stdout",
     "output_type": "stream",
     "text": [
      "Test => Loss: 1.1075, Accuracy: 61.27% (6127/10000)\n"
     ]
    },
    {
     "name": "stderr",
     "output_type": "stream",
     "text": [
      "Epoch 5: 100% (batch 782/782)  ==stats==> loss:   1.05, accuracy:   0.63, Time:  0:00:29\n"
     ]
    },
    {
     "name": "stdout",
     "output_type": "stream",
     "text": [
      "Test => Loss: 1.0862, Accuracy: 62.17% (6217/10000)\n"
     ]
    },
    {
     "name": "stderr",
     "output_type": "stream",
     "text": [
      "Epoch 6: 100% (batch 782/782)  ==stats==> loss:   1.02, accuracy:  0.637, Time:  0:00:29\n"
     ]
    },
    {
     "name": "stdout",
     "output_type": "stream",
     "text": [
      "Test => Loss: 1.0170, Accuracy: 64.31% (6431/10000)\n"
     ]
    },
    {
     "name": "stderr",
     "output_type": "stream",
     "text": [
      "Epoch 7: 100% (batch 782/782)  ==stats==> loss:  0.994, accuracy:  0.652, Time:  0:00:29\n"
     ]
    },
    {
     "name": "stdout",
     "output_type": "stream",
     "text": [
      "Test => Loss: 1.0672, Accuracy: 62.56% (6256/10000)\n",
      "Evaluating accuracy for all models/datasets:\n"
     ]
    }
   ],
   "source": [
    "\n",
    "batch_size = 64\n",
    "\n",
    "epochs={'cifar10':10,'mnist':5,'fashion_mnist':12,'cluttered_mnist':10,'lsa16':15,'mnist_rot':5,'pugeault':15}\n",
    "\n",
    "rotated_epochs={'cifar10':80,'mnist':5,'fashion_mnist':60,'cluttered_mnist':30,'lsa16':100,'mnist_rot':5,'pugeault':40}\n",
    "\n",
    "layer_names=model.layer_names()\n",
    "loss_function=torch.nn.NLLLoss()\n",
    "batch_size=64\n",
    "initial_epochs=4\n",
    "retrain_epochs=7\n",
    "conv_layer_names= list(filter(lambda name: name.startswith(\"c\"),layer_names))\n",
    "fc_layer_names= list(filter(lambda name: name.startswith(\"fc\"),layer_names))\n",
    "individual_layers= [[l] for l in layer_names] \n",
    "retrained_layers_schemes=individual_layers + [conv_layer_names,fc_layer_names] +[layer_names]\n",
    "\n",
    "labels=[\"none\"] +layer_names +[\"conv\",\"fc\",\"all\"]\n",
    "\n",
    "# retrained_layers_schemes=[conv_layer_names,fc_layer_names]\n",
    "# labels=[\"conv\",\"fc\"]\n",
    "print(\"Retraining schemes:\\n\")\n",
    "print(\"\\n\".join(map(lambda scheme: \"_\".join(scheme),retrained_layers_schemes)))\n",
    "\n",
    "config=pytorch_experiment.RetrainConfig(batch_size,initial_epochs,retrain_epochs,use_cuda,loss_function)\n",
    "scores,models,unrotated_accuracies,rotated_accuracies=pytorch_experiment.retraining(model_optimizer_generator,retrained_layers_schemes,config,dataset)\n",
    "\n",
    "\n",
    "\n"
   ]
  },
  {
   "cell_type": "code",
   "execution_count": 51,
   "metadata": {},
   "outputs": [
    {
     "data": {
      "image/png": "[encoded data removed]",
      "text/plain": [
       "<matplotlib.figure.Figure at 0x7f7d6df910f0>"
      ]
     },
     "metadata": {},
     "output_type": "display_data"
    },
    {
     "data": {
      "text/plain": [
       "'plots/retraining_SimpleConv_cifar10.png'"
      ]
     },
     "execution_count": 51,
     "metadata": {},
     "output_type": "execute_result"
    }
   ],
   "source": [
    "\n",
    "pytorch_experiment.retraining_accuracy_barchart(model.name,dataset.name,unrotated_accuracies,rotated_accuracies,labels,savefig=True)"
   ]
  },
  {
   "cell_type": "code",
   "execution_count": 6,
   "metadata": {
    "scrolled": true
   },
   "outputs": [
    {
     "name": "stdout",
     "output_type": "stream",
     "text": [
      "2018-09-10 18:43:44.407149\n",
      "Results on dataset mnist with model SimpleConv\n",
      "\n",
      "None_rotated_test_dataset score: loss=3.863334, accuracy=0.419300\n",
      "\n",
      "None_rotated_train_dataset score: loss=3.926329, accuracy=0.412317\n",
      "\n",
      "None_test_dataset score: loss=0.043758, accuracy=0.985900\n",
      "\n",
      "None_train_dataset score: loss=0.041138, accuracy=0.987500\n",
      "\n",
      "retrained_c1_rotated_test_dataset score: loss=1.849418, accuracy=0.434500\n",
      "\n",
      "retrained_c1_rotated_train_dataset score: loss=1.859314, accuracy=0.428283\n",
      "\n",
      "retrained_c1_test_dataset score: loss=0.548009, accuracy=0.977200\n",
      "\n",
      "retrained_c1_train_dataset score: loss=0.541860, accuracy=0.977917\n",
      "\n",
      "retrained_c1_c2_c3_c4_c5_rotated_test_dataset score: loss=0.237550, accuracy=0.925300\n",
      "\n",
      "retrained_c1_c2_c3_c4_c5_rotated_train_dataset score: loss=0.261971, accuracy=0.919800\n",
      "\n",
      "retrained_c1_c2_c3_c4_c5_test_dataset score: loss=0.191369, accuracy=0.940100\n",
      "\n",
      "retrained_c1_c2_c3_c4_c5_train_dataset score: loss=0.200448, accuracy=0.937650\n",
      "\n",
      "retrained_c1_c2_c3_c4_c5_fc1_fc2_rotated_test_dataset score: loss=0.189682, accuracy=0.934600\n",
      "\n",
      "retrained_c1_c2_c3_c4_c5_fc1_fc2_rotated_train_dataset score: loss=0.195795, accuracy=0.936467\n",
      "\n",
      "retrained_c1_c2_c3_c4_c5_fc1_fc2_test_dataset score: loss=0.245712, accuracy=0.913600\n",
      "\n",
      "retrained_c1_c2_c3_c4_c5_fc1_fc2_train_dataset score: loss=0.255737, accuracy=0.913183\n",
      "\n",
      "retrained_c2_rotated_test_dataset score: loss=1.790831, accuracy=0.444900\n",
      "\n",
      "retrained_c2_rotated_train_dataset score: loss=1.802173, accuracy=0.444183\n",
      "\n",
      "retrained_c2_test_dataset score: loss=0.407122, accuracy=0.969700\n",
      "\n",
      "retrained_c2_train_dataset score: loss=0.400880, accuracy=0.968900\n",
      "\n",
      "retrained_c3_rotated_test_dataset score: loss=1.626873, accuracy=0.506700\n",
      "\n",
      "retrained_c3_rotated_train_dataset score: loss=1.641310, accuracy=0.493283\n",
      "\n",
      "retrained_c3_test_dataset score: loss=0.585449, accuracy=0.959400\n",
      "\n",
      "retrained_c3_train_dataset score: loss=0.589995, accuracy=0.953667\n",
      "\n",
      "retrained_c4_rotated_test_dataset score: loss=1.204025, accuracy=0.625900\n",
      "\n",
      "retrained_c4_rotated_train_dataset score: loss=1.228325, accuracy=0.622583\n",
      "\n",
      "retrained_c4_test_dataset score: loss=0.526754, accuracy=0.896000\n",
      "\n",
      "retrained_c4_train_dataset score: loss=0.544734, accuracy=0.892017\n",
      "\n",
      "retrained_c5_rotated_test_dataset score: loss=0.376017, accuracy=0.882200\n",
      "\n",
      "retrained_c5_rotated_train_dataset score: loss=0.405582, accuracy=0.875917\n",
      "\n",
      "retrained_c5_test_dataset score: loss=0.222492, accuracy=0.934000\n",
      "\n",
      "retrained_c5_train_dataset score: loss=0.232704, accuracy=0.931033\n",
      "\n",
      "retrained_fc1_rotated_test_dataset score: loss=0.230874, accuracy=0.928500\n",
      "\n",
      "retrained_fc1_rotated_train_dataset score: loss=0.242776, accuracy=0.923850\n",
      "\n",
      "retrained_fc1_test_dataset score: loss=0.140678, accuracy=0.953800\n",
      "\n",
      "retrained_fc1_train_dataset score: loss=0.141191, accuracy=0.955083\n",
      "\n",
      "retrained_fc1_fc2_rotated_test_dataset score: loss=0.225782, accuracy=0.927900\n",
      "\n",
      "retrained_fc1_fc2_rotated_train_dataset score: loss=0.237405, accuracy=0.924133\n",
      "\n",
      "retrained_fc1_fc2_test_dataset score: loss=0.168264, accuracy=0.947100\n",
      "\n",
      "retrained_fc1_fc2_train_dataset score: loss=0.172401, accuracy=0.945167\n",
      "\n",
      "retrained_fc2_rotated_test_dataset score: loss=1.040164, accuracy=0.642700\n",
      "\n",
      "retrained_fc2_rotated_train_dataset score: loss=1.068908, accuracy=0.632133\n",
      "\n",
      "retrained_fc2_test_dataset score: loss=0.317418, accuracy=0.931800\n",
      "\n",
      "retrained_fc2_train_dataset score: loss=0.333199, accuracy=0.927100\n",
      "\n"
     ]
    }
   ],
   "source": [
    "from datetime import datetime\n",
    "\n",
    "output_file=\"results/retraining_simple_conv.txt\"\n",
    "general_message=\"%s\\nResults on dataset %s with model %s\\n\" % (str(datetime.now()),dataset.name,model.name,)\n",
    "\n",
    "pytorch_experiment.write_scores(scores,output_file,general_message)\n"
   ]
  },
  {
   "cell_type": "code",
   "execution_count": null,
   "metadata": {},
   "outputs": [],
   "source": []
  },
  {
   "cell_type": "code",
   "execution_count": null,
   "metadata": {},
   "outputs": [],
   "source": []
  }
 ],
 "metadata": {
  "kernelspec": {
   "display_name": "Python 3",
   "language": "python",
   "name": "python3"
  },
  "language_info": {
   "codemirror_mode": {
    "name": "ipython",
    "version": 3
   },
   "file_extension": ".py",
   "mimetype": "text/x-python",
   "name": "python",
   "nbconvert_exporter": "python",
   "pygments_lexer": "ipython3",
   "version": "3.6.1"
  }
 },
 "nbformat": 4,
 "nbformat_minor": 2
}
