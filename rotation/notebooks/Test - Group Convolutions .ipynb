{
 "cells": [
  {
   "cell_type": "code",
   "execution_count": null,
   "metadata": {},
   "outputs": [],
   "source": [
    "# To use group convolutions, clone https://github.com/tscohen/GrouPy and run\n",
    "# python setup.py install\n",
    "# (inside your virtualenv if you are using one)\n",
    "\n"
   ]
  },
  {
   "cell_type": "code",
   "execution_count": 1,
   "metadata": {},
   "outputs": [
    {
     "name": "stderr",
     "output_type": "stream",
     "text": [
      "/home/facuq/dev/exp/rotation/.env/lib/python3.6/site-packages/h5py/__init__.py:36: FutureWarning: Conversion of the second argument of issubdtype from `float` to `np.floating` is deprecated. In future, it will be treated as `np.float64 == np.dtype(float).type`.\n",
      "  from ._conv import register_converters as _register_converters\n"
     ]
    },
    {
     "name": "stdout",
     "output_type": "stream",
     "text": [
      "(10, 10, 10, 512)\n"
     ]
    }
   ],
   "source": [
    "import numpy as np\n",
    "import tensorflow as tf\n",
    "from groupy.gconv.tensorflow_gconv.splitgconv2d import gconv2d, gconv2d_util\n",
    "\n",
    "# Construct graph\n",
    "input_shape=(20,20,8)\n",
    "x = tf.placeholder(tf.float32, [None, *input_shape])\n",
    "\n",
    "\n",
    "\n",
    "w = tf.Variable(tf.truncated_normal([5, 5, input_shape[2], 32], stddev=0.1), name=\"W\")\n",
    "b = tf.Variable(tf.constant(0.1, shape=[32]), name=\"B\")\n",
    "y1 = tf.nn.conv2d(x, w, strides=[1, 1, 1, 1], padding=\"SAME\")\n",
    "    \n",
    "gconv_indices, gconv_shape_info, w_shape = gconv2d_util(\n",
    "    h_input='Z2', h_output='D4', in_channels=32, out_channels=64, ksize=3)\n",
    "w = tf.Variable(tf.truncated_normal(w_shape, stddev=1.))\n",
    "y2 = gconv2d(input=y1, filter=w, strides=[1, 2, 2, 1], padding='SAME',\n",
    "            gconv_indices=gconv_indices, gconv_shape_info=gconv_shape_info)\n",
    "\n",
    "\n",
    "gconv_indices, gconv_shape_info, w_shape = gconv2d_util(\n",
    "    h_input='D4', h_output='D4', in_channels=64, out_channels=64, ksize=3)\n",
    "w = tf.Variable(tf.truncated_normal(w_shape, stddev=1.))\n",
    "y = gconv2d(input=y2, filter=w, strides=[1, 1, 1, 1], padding='SAME',\n",
    "            gconv_indices=gconv_indices, gconv_shape_info=gconv_shape_info)\n",
    "\n",
    "# Compute\n",
    "init = tf.global_variables_initializer()\n",
    "sess = tf.Session()\n",
    "sess.run(init)\n",
    "yval = sess.run(y, feed_dict={x: np.random.randn(10, *input_shape)})\n",
    "sess.close()\n",
    "\n",
    "print(yval.shape)  # (10, 9, 9, 512) "
   ]
  },
  {
   "cell_type": "code",
   "execution_count": 2,
   "metadata": {},
   "outputs": [
    {
     "name": "stderr",
     "output_type": "stream",
     "text": [
      "Using TensorFlow backend.\n"
     ]
    },
    {
     "data": {
      "text/plain": [
       "array([[0.10209556, 0.08754663, 0.11159792, 0.09038323, 0.08696858,\n",
       "        0.09631675, 0.10398663, 0.14031078, 0.09905198, 0.08174188],\n",
       "       [0.10704695, 0.0861169 , 0.1009955 , 0.09479278, 0.09143273,\n",
       "        0.10204962, 0.11257763, 0.11909661, 0.11133212, 0.07455917],\n",
       "       [0.10039984, 0.09669842, 0.10071056, 0.08946796, 0.09301144,\n",
       "        0.10406072, 0.09987837, 0.13621002, 0.0958347 , 0.0837279 ],\n",
       "       [0.10230449, 0.0870057 , 0.1024095 , 0.0985565 , 0.0929886 ,\n",
       "        0.08675032, 0.1093635 , 0.13193783, 0.10424849, 0.08443514],\n",
       "       [0.09696353, 0.08728697, 0.10003261, 0.10147282, 0.09814094,\n",
       "        0.10090251, 0.10016499, 0.13022289, 0.10355845, 0.08125439],\n",
       "       [0.09305371, 0.09504005, 0.09875611, 0.09583359, 0.09760455,\n",
       "        0.09966935, 0.10246343, 0.13206959, 0.10671861, 0.07879101],\n",
       "       [0.09190694, 0.10179716, 0.10632059, 0.10436914, 0.10606608,\n",
       "        0.09339731, 0.10710761, 0.1201153 , 0.09038597, 0.07853398],\n",
       "       [0.10569593, 0.09609272, 0.09471351, 0.10271982, 0.08662853,\n",
       "        0.10577971, 0.11052471, 0.11145415, 0.11168525, 0.07470565],\n",
       "       [0.09877556, 0.10062934, 0.11344606, 0.07068291, 0.09967843,\n",
       "        0.10128959, 0.10762973, 0.13541125, 0.10206803, 0.07038915],\n",
       "       [0.10727043, 0.10487186, 0.10952318, 0.0918849 , 0.09029814,\n",
       "        0.09781665, 0.10399605, 0.12551893, 0.09332782, 0.07549209]],\n",
       "      dtype=float32)"
      ]
     },
     "execution_count": 2,
     "metadata": {},
     "output_type": "execute_result"
    }
   ],
   "source": [
    "\n",
    "import tensorflow as tf\n",
    "sess = tf.Session()\n",
    "\n",
    "from keras import backend as K\n",
    "from keras.layers import Dense, Flatten,Conv2D\n",
    "K.set_session(sess)\n",
    "\n",
    "from keras.models import Sequential\n",
    "from layers import GConv2D\n",
    "\n",
    "input_shape=(9,9,3)\n",
    "batch_size=10\n",
    "model = Sequential()\n",
    "\n",
    "model.add(GConv2D(out_channels=32,h_input='Z2',h_output='C4',input_shape=input_shape))\n",
    "model.add(GConv2D(out_channels=64,h_input='C4',h_output='C4'))\n",
    "model.add(GConv2D(out_channels=64,h_input='C4',h_output='C4'))\n",
    "model.add(Flatten())\n",
    "model.add(Dense(10, activation='softmax'))\n",
    "\n",
    "# this works! \n",
    "\n",
    "x = tf.placeholder(tf.float32, shape=(None, *input_shape))\n",
    "y = model(x)\n",
    "\n",
    "init_op = tf.global_variables_initializer()\n",
    "sess.run(init_op)\n",
    "npx=np.random.rand(10,*input_shape)\n",
    "y.eval(feed_dict={x: npx},session=sess)\n",
    "\n"
   ]
  }
 ],
 "metadata": {
  "kernelspec": {
   "display_name": "Python 3",
   "language": "python",
   "name": "python3"
  },
  "language_info": {
   "codemirror_mode": {
    "name": "ipython",
    "version": 3
   },
   "file_extension": ".py",
   "mimetype": "text/x-python",
   "name": "python",
   "nbconvert_exporter": "python",
   "pygments_lexer": "ipython3",
   "version": "3.6.5"
  }
 },
 "nbformat": 4,
 "nbformat_minor": 2
}
