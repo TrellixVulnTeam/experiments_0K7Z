{
 "cells": [
  {
   "cell_type": "code",
   "execution_count": null,
   "metadata": {},
   "outputs": [],
   "source": [
    "import matplotlib.pyplot as plt\n",
    "%load_ext autoreload\n",
    "%autoreload 2\n",
    "plt.rcParams['image.cmap'] = 'gray'\n",
    "\n",
    "import numpy as np\n",
    "np.random.seed(1337)  # for reproducibility\n",
    "import matplotlib.pyplot as plt\n",
    "\n"
   ]
  },
  {
   "cell_type": "code",
   "execution_count": 7,
   "metadata": {},
   "outputs": [
    {
     "name": "stdout",
     "output_type": "stream",
     "text": [
      "Downloading data from http://fashion-mnist.s3-website.eu-central-1.amazonaws.com/train-labels-idx1-ubyte.gz\n",
      "32768/29515 [=================================] - 1s 25us/step\n",
      "Downloading data from http://fashion-mnist.s3-website.eu-central-1.amazonaws.com/train-images-idx3-ubyte.gz\n",
      "26427392/26421880 [==============================] - 227s 9us/step\n",
      "Downloading data from http://fashion-mnist.s3-website.eu-central-1.amazonaws.com/t10k-labels-idx1-ubyte.gz\n",
      "8192/5148 [===============================================] - 0s 0us/step\n",
      "Downloading data from http://fashion-mnist.s3-website.eu-central-1.amazonaws.com/t10k-images-idx3-ubyte.gz\n",
      "4423680/4422102 [==============================] - 33s 7us/step\n",
      "x_train shape: (60000, 28, 28, 1)\n",
      "60000 train samples\n",
      "10000 test samples\n"
     ]
    }
   ],
   "source": [
    "\n",
    "import keras\n",
    "\n",
    "import os\n",
    "import datasets\n",
    "import models\n",
    "dataset=\"fashion_mnist\"\n",
    "(x_train, y_train), (x_test, y_test), input_shape,num_classes = datasets.get_data(dataset)\n",
    "\n",
    "\n",
    "print('x_train shape:', x_train.shape)\n",
    "print(x_train.shape[0], 'train samples')\n",
    "print(x_test.shape[0], 'test samples')\n"
   ]
  },
  {
   "cell_type": "code",
   "execution_count": 6,
   "metadata": {},
   "outputs": [],
   "source": [
    "\n",
    "from keras.layers import Input, Conv2D, Activation, GlobalAvgPool2D, Dense, BatchNormalization\n",
    "from defconv.layers import ConvOffset2D\n",
    "\n",
    "def get_deform_cnn(classes):\n",
    "    trainable=True\n",
    "    inputs = l = Input((28, 28, 1), name='input')\n",
    "\n",
    "    # conv11\n",
    "    l = Conv2D(32, (3, 3), padding='same', name='conv11', trainable=trainable)(l)\n",
    "    l = Activation('relu', name='conv11_relu')(l)\n",
    "    l = BatchNormalization(name='conv11_bn')(l)\n",
    "\n",
    "    # conv12\n",
    "    l_offset = ConvOffset2D(32, name='conv12_offset')(l)\n",
    "    l = Conv2D(64, (3, 3), padding='same', strides=(2, 2), name='conv12', trainable=trainable)(l_offset)\n",
    "    l = Activation('relu', name='conv12_relu')(l)\n",
    "    l = BatchNormalization(name='conv12_bn')(l)\n",
    "\n",
    "    # conv21\n",
    "    l_offset = ConvOffset2D(64, name='conv21_offset')(l)\n",
    "    l = Conv2D(128, (3, 3), padding='same', name='conv21', trainable=trainable)(l_offset)\n",
    "    l = Activation('relu', name='conv21_relu')(l)\n",
    "    l = BatchNormalization(name='conv21_bn')(l)\n",
    "\n",
    "    # conv22\n",
    "    l_offset = ConvOffset2D(128, name='conv22_offset')(l)\n",
    "    l = Conv2D(128, (3, 3), padding='same', strides=(2, 2), name='conv22', trainable=trainable)(l_offset)\n",
    "    l = Activation('relu', name='conv22_relu')(l)\n",
    "    l = BatchNormalization(name='conv22_bn')(l)\n",
    "\n",
    "    # out\n",
    "    l = GlobalAvgPool2D(name='avg_pool')(l)\n",
    "    l = Dense(classes, name='fc1', trainable=trainable)(l)\n",
    "    outputs = l = Activation('softmax', name='out')(l)\n",
    "\n",
    "    return inputs, outputs\n",
    "\n",
    "inputs,model =get_deform_cnn(num_classes)\n",
    "\n",
    "\n"
   ]
  },
  {
   "cell_type": "code",
   "execution_count": null,
   "metadata": {},
   "outputs": [],
   "source": [
    "model.compile(loss=keras.losses.categorical_crossentropy,\n",
    "              optimizer=keras.optimizers.RMSprop(lr=0.0015),\n",
    "              metrics=['accuracy'])\n",
    "print(model.summary())"
   ]
  }
 ],
 "metadata": {
  "kernelspec": {
   "display_name": "Python 3",
   "language": "python",
   "name": "python3"
  },
  "language_info": {
   "codemirror_mode": {
    "name": "ipython",
    "version": 3
   },
   "file_extension": ".py",
   "mimetype": "text/x-python",
   "name": "python",
   "nbconvert_exporter": "python",
   "pygments_lexer": "ipython3",
   "version": "3.6.5"
  }
 },
 "nbformat": 4,
 "nbformat_minor": 2
}
