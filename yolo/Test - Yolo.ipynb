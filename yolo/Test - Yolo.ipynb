{
 "cells": [
  {
   "cell_type": "code",
   "execution_count": 8,
   "metadata": {},
   "outputs": [
    {
     "name": "stdout",
     "output_type": "stream",
     "text": [
      "The autoreload extension is already loaded. To reload it, use:\n",
      "  %reload_ext autoreload\n"
     ]
    }
   ],
   "source": [
    "%load_ext autoreload\n",
    "%autoreload 2\n",
    "    \n",
    "import yolo\n",
    "import numpy\n",
    "import torch\n",
    "import nn"
   ]
  },
  {
   "cell_type": "code",
   "execution_count": 61,
   "metadata": {},
   "outputs": [
    {
     "name": "stdout",
     "output_type": "stream",
     "text": [
      "Bounding boxes: 48\n",
      "Bounding box dimension (4+1+classes): 8\n",
      "Bounding box centers: 48\n",
      "Centers (first 4): \n",
      " tensor([[ 0.1250,  0.1250],\n",
      "        [ 0.1250,  0.1250],\n",
      "        [ 0.1250,  0.1250],\n",
      "        [ 0.1250,  0.3750]])\n",
      "Anchor sizes (first 4): \n",
      " tensor([[ 0.1000,  0.2000],\n",
      "        [ 0.2000,  0.1000],\n",
      "        [ 0.1000,  0.1000],\n",
      "        [ 0.1000,  0.2000]])\n",
      "Input size: torch.Size([2, 3, 4, 4])\n",
      "Output size: torch.Size([2, 48, 8])\n"
     ]
    }
   ],
   "source": [
    "\n",
    "anchors = [(0.1,0.2),(0.2,0.1),(0.1,0.1)]\n",
    "input_grid_size=(3,4,4)\n",
    "c,h,w=input_grid_size\n",
    "classes=3\n",
    "detection = yolo.DetectionLayer(input_grid_size,anchors,classes)\n",
    "\n",
    "print(\"Bounding boxes:\",detection.bbs)\n",
    "print(\"Bounding box dimension (4+1+classes):\",detection.bb_dimension)\n",
    "print(\"Bounding box centers:\", len(detection.bounding_boxes.centers))\n",
    "print(\"Centers (first 4): \\n\",detection.bounding_boxes.centers[:4,:])\n",
    "print(\"Anchor sizes (first 4): \\n\",detection.bounding_boxes.sizes[:4,:])\n",
    "\n",
    "batch_size=2\n",
    "x = torch.autograd.Variable(torch.zeros(batch_size,*input_grid_size))\n",
    "print(\"Input size:\",x.data.shape)\n",
    "y=detection(x)\n",
    "print(\"Output size:\",y.data.shape)\n",
    "\n",
    "assert(y.data.shape==(2,h*w*len(anchors),5+classes))\n",
    "#print(y.data[0,0:4,:])\n"
   ]
  },
  {
   "cell_type": "code",
   "execution_count": null,
   "metadata": {},
   "outputs": [],
   "source": []
  }
 ],
 "metadata": {
  "kernelspec": {
   "display_name": "Python 3",
   "language": "python",
   "name": "python3"
  },
  "language_info": {
   "codemirror_mode": {
    "name": "ipython",
    "version": 3
   },
   "file_extension": ".py",
   "mimetype": "text/x-python",
   "name": "python",
   "nbconvert_exporter": "python",
   "pygments_lexer": "ipython3",
   "version": "3.6.5"
  }
 },
 "nbformat": 4,
 "nbformat_minor": 2
}
